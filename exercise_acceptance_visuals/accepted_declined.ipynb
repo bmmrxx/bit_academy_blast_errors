{
 "cells": [
  {
   "cell_type": "markdown",
   "metadata": {},
   "source": [
    "## Accepted or declined?\n",
    "\n",
    "In the following visuals we analyze the exercises and see how many exercises are being accepted and declined. We check if there are differences in the coding languages and/or the date of the exercises being made."
   ]
  },
  {
   "cell_type": "code",
   "execution_count": null,
   "metadata": {},
   "outputs": [],
   "source": []
  }
 ],
 "metadata": {
  "language_info": {
   "name": "python"
  }
 },
 "nbformat": 4,
 "nbformat_minor": 2
}

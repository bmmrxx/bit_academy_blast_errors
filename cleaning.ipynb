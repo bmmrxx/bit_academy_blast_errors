{
 "cells": [
  {
   "cell_type": "markdown",
   "metadata": {},
   "source": [
    "# Blast errors\n",
    "\n",
    "Tekst"
   ]
  },
  {
   "cell_type": "code",
   "execution_count": 1,
   "metadata": {},
   "outputs": [],
   "source": [
    "import pandas as pd\n",
    "import matplotlib.pyplot as plt\n",
    "import seaborn as sns\n",
    "\n",
    "read_linting_results = pd.read_csv('data/blast_linting_results.csv')\n",
    "read_review_test_results = pd.read_csv('data/blast_review_test_results.csv')\n",
    "read_reviews = pd.read_csv('data/blast_reviews.csv')\n",
    "data_tests = pd.read_csv('data/blast_tests.csv')\n",
    "read_code_blast_tests = pd.read_csv('data/code_blast_tests.csv')\n",
    "read_exercises = pd.read_csv('data/exercises.csv')\n",
    "data_implementation_exercise = pd.read_csv('data/implementation_exercise.csv')"
   ]
  },
  {
   "cell_type": "markdown",
   "metadata": {},
   "source": [
    "#### Data Cleaning"
   ]
  },
  {
   "cell_type": "code",
   "execution_count": 2,
   "metadata": {},
   "outputs": [],
   "source": [
    "data_linting_result_warning= read_linting_results[['blast_review_id', 'file_name', 'message', 'type', 'line', 'column']]\n",
    "data_linting_result = data_linting_result_warning[data_linting_result_warning['type'].str.lower().isin(['error'])]\n",
    "\n",
    "data_review_test_results = read_review_test_results[['blast_review_id', 'test_id', 'human_error_message', 'test_language']]\n",
    "\n",
    "data_reviews = read_reviews[['id', 'implementation_id', 'state', 'created_on']]\n",
    "\n",
    "data_exercises = read_exercises[['id', 'title', 'files_to_turn_in']]\n",
    "\n",
    "data_code_blast_tests = read_code_blast_tests[['id', 'exercise_id', 'title', 'test_type', 'created_on', 'language']]"
   ]
  }
 ],
 "metadata": {
  "kernelspec": {
   "display_name": "venv",
   "language": "python",
   "name": "python3"
  },
  "language_info": {
   "codemirror_mode": {
    "name": "ipython",
    "version": 3
   },
   "file_extension": ".py",
   "mimetype": "text/x-python",
   "name": "python",
   "nbconvert_exporter": "python",
   "pygments_lexer": "ipython3",
   "version": "3.11.7"
  }
 },
 "nbformat": 4,
 "nbformat_minor": 2
}

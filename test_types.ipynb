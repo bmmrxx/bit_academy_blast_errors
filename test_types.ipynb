{
 "cells": [
  {
   "cell_type": "markdown",
   "metadata": {},
   "source": [
    "# Test Types\n",
    "In this visuals we want to discorer the following\n",
    "\n",
    "* Visualize what test types are being used the most.\n",
    "* Visualize what test types give the most issues(blast and linter)\n",
    "* Visualize the top 20 linting errors per linting type\n",
    "* Visualize blast and linting apart"
   ]
  },
  {
   "cell_type": "markdown",
   "metadata": {},
   "source": [
    "importing libararies"
   ]
  },
  {
   "cell_type": "code",
   "execution_count": 1,
   "metadata": {},
   "outputs": [],
   "source": [
    "import numpy as np\n",
    "import pandas as pd\n",
    "import matplotlib.pyplot as plt\n",
    "import plotly.graph_objects as go\n",
    "from cleaning import read_data, clean_linting_results, clean_review_test_results, clean_data_reviewss, clean_data_exercises, clean_data_code_blast_tests\n"
   ]
  },
  {
   "cell_type": "markdown",
   "metadata": {},
   "source": [
    "# Cleaned data"
   ]
  },
  {
   "cell_type": "code",
   "execution_count": 2,
   "metadata": {},
   "outputs": [],
   "source": [
    "read_linting_results, read_review_test_results, read_reviews, data_tests, read_code_blast_tests, read_exercises, data_implementation_exercise = read_data()\n",
    "\n",
    "data_linting_result = clean_linting_results(read_linting_results)\n",
    "data_review_test_results = clean_review_test_results(read_review_test_results)\n",
    "data_reviews = clean_data_reviewss(read_reviews)\n",
    "data_exercises = clean_data_exercises(read_exercises)\n",
    "data_code_blast_tests = clean_data_code_blast_tests(read_code_blast_tests)"
   ]
  },
  {
   "cell_type": "code",
   "execution_count": 3,
   "metadata": {},
   "outputs": [
    {
     "data": {
      "text/plain": [
       "The value of the “for” attribute of the “label” element must be the ID of a non-hidden form control.    25289\n",
       " Unexpected token.                                                                                      24405\n",
       "Missing semicolon.                                                                                      24213\n",
       "Expected indentation of 4 spaces but found 2.                                                           20769\n",
       "Expected at least 1 space before \".\"; 0 found                                                           19739\n",
       "Element “head” is missing a required instance of child element “title”.                                 19311\n",
       " Unexpected beginning of statement.                                                                     18179\n",
       "Trailing spaces not allowed.                                                                            16970\n",
       "Expected at least 1 space after \".\"; 0 found                                                            16569\n",
       "Expected 1 space(s) after closing parenthesis; found 0                                                  16504\n",
       "Start tag “body” seen but an element of the same type was already open.                                 16034\n",
       "Expected 1 space after closing brace; newline found                                                     16030\n",
       "Line indented incorrectly; expected 0 spaces, found 4                                                   15888\n",
       "Stray end tag “head”.                                                                                   15849\n",
       "Expected indentation of 8 spaces but found 4.                                                           13271\n",
       "Line indented incorrectly; expected at least 4 spaces, found 0                                          13220\n",
       " Unrecognized keyword.                                                                                  12710\n",
       "Line indented incorrectly; expected at least 8 spaces, found 4                                          11564\n",
       "Space before opening parenthesis of function call prohibited                                            11192\n",
       "Line indented incorrectly; expected 4 spaces, found 0                                                   10935\n",
       "Name: message, dtype: int64"
      ]
     },
     "execution_count": 3,
     "metadata": {},
     "output_type": "execute_result"
    }
   ],
   "source": [
    "linting_error_codes = data_linting_result['message'].value_counts()\n",
    "linting_error_codes.head(20)"
   ]
  },
  {
   "cell_type": "code",
   "execution_count": 4,
   "metadata": {},
   "outputs": [
    {
     "data": {
      "text/plain": [
       "The value of the “for” attribute of the “label” element must be the ID of a non-hidden form control.     25289\n",
       " Unexpected token.                                                                                       24405\n",
       "Missing semicolon.                                                                                       24213\n",
       "Expected indentation of 4 spaces but found 2.                                                            20769\n",
       "Expected at least 1 space before \".\"; 0 found                                                            19739\n",
       "                                                                                                         ...  \n",
       "Closing brace indented incorrectly; expected 75 spaces, found 46                                             1\n",
       "Line indented incorrectly; expected 75 spaces, found 46                                                      1\n",
       "CSS: “ ”: Parse Error.                                                                                       1\n",
       "cannot assign to literal (<unknown>, line 1)                                                                 1\n",
       "Bad value “tijdwedstrijd 3” for attribute “id” on element “input”: An ID must not contain whitespace.        1\n",
       "Name: message, Length: 29189, dtype: int64"
      ]
     },
     "execution_count": 4,
     "metadata": {},
     "output_type": "execute_result"
    }
   ],
   "source": [
    "linting_error_codes"
   ]
  },
  {
   "cell_type": "code",
   "execution_count": 5,
   "metadata": {},
   "outputs": [
    {
     "data": {
      "text/html": [
       "<div>\n",
       "<style scoped>\n",
       "    .dataframe tbody tr th:only-of-type {\n",
       "        vertical-align: middle;\n",
       "    }\n",
       "\n",
       "    .dataframe tbody tr th {\n",
       "        vertical-align: top;\n",
       "    }\n",
       "\n",
       "    .dataframe thead th {\n",
       "        text-align: right;\n",
       "    }\n",
       "</style>\n",
       "<table border=\"1\" class=\"dataframe\">\n",
       "  <thead>\n",
       "    <tr style=\"text-align: right;\">\n",
       "      <th></th>\n",
       "      <th>blast_review_id</th>\n",
       "      <th>test_id</th>\n",
       "      <th>human_error_message</th>\n",
       "      <th>test_language</th>\n",
       "    </tr>\n",
       "  </thead>\n",
       "  <tbody>\n",
       "    <tr>\n",
       "      <th>0</th>\n",
       "      <td>00001c9e-f8a5-4b92-8c94-b02f2209c968</td>\n",
       "      <td>156effcd-27f9-11ec-abc5-4213e7ee7fac</td>\n",
       "      <td>Je gebruikt echt `DELETE` in je SQL bestand</td>\n",
       "      <td>nl</td>\n",
       "    </tr>\n",
       "    <tr>\n",
       "      <th>1</th>\n",
       "      <td>00002312-66bf-4c25-94fe-d8b9def65fcd</td>\n",
       "      <td>8b2a55a4-2845-11ed-b4d0-4213e7ee7fac</td>\n",
       "      <td>NaN</td>\n",
       "      <td>nl</td>\n",
       "    </tr>\n",
       "    <tr>\n",
       "      <th>2</th>\n",
       "      <td>00002312-66bf-4c25-94fe-d8b9def65fcd</td>\n",
       "      <td>8b2a55a4-2845-11ed-b4d0-4213e7ee7fac</td>\n",
       "      <td>NaN</td>\n",
       "      <td>nl</td>\n",
       "    </tr>\n",
       "    <tr>\n",
       "      <th>3</th>\n",
       "      <td>00002312-66bf-4c25-94fe-d8b9def65fcd</td>\n",
       "      <td>8b2a55a4-2845-11ed-b4d0-4213e7ee7fac</td>\n",
       "      <td>NaN</td>\n",
       "      <td>nl</td>\n",
       "    </tr>\n",
       "    <tr>\n",
       "      <th>4</th>\n",
       "      <td>00002312-66bf-4c25-94fe-d8b9def65fcd</td>\n",
       "      <td>8b2a55a4-2845-11ed-b4d0-4213e7ee7fac</td>\n",
       "      <td>NaN</td>\n",
       "      <td>nl</td>\n",
       "    </tr>\n",
       "    <tr>\n",
       "      <th>...</th>\n",
       "      <td>...</td>\n",
       "      <td>...</td>\n",
       "      <td>...</td>\n",
       "      <td>...</td>\n",
       "    </tr>\n",
       "    <tr>\n",
       "      <th>2227019</th>\n",
       "      <td>ffffed58-5f58-4404-ada4-60492cf25614</td>\n",
       "      <td>3333dedb-afd7-11ea-a2fb-cec41367f4e7</td>\n",
       "      <td>Deze test controleert of jouw programma de str...</td>\n",
       "      <td>nl</td>\n",
       "    </tr>\n",
       "    <tr>\n",
       "      <th>2227020</th>\n",
       "      <td>ffffed58-5f58-4404-ada4-60492cf25614</td>\n",
       "      <td>3333dedb-afd7-11ea-a2fb-cec41367f4e7</td>\n",
       "      <td>NaN</td>\n",
       "      <td>nl</td>\n",
       "    </tr>\n",
       "    <tr>\n",
       "      <th>2227021</th>\n",
       "      <td>fffff2c9-1435-4a91-891f-047d83e194a9</td>\n",
       "      <td>0df303b2-ae4e-11eb-b248-4213e7ee7fac</td>\n",
       "      <td>NaN</td>\n",
       "      <td>nl</td>\n",
       "    </tr>\n",
       "    <tr>\n",
       "      <th>2227022</th>\n",
       "      <td>fffff2c9-1435-4a91-891f-047d83e194a9</td>\n",
       "      <td>601602ce-ae4d-11eb-b248-4213e7ee7fac</td>\n",
       "      <td>NaN</td>\n",
       "      <td>nl</td>\n",
       "    </tr>\n",
       "    <tr>\n",
       "      <th>2227023</th>\n",
       "      <td>fffff2c9-1435-4a91-891f-047d83e194a9</td>\n",
       "      <td>601602ce-ae4d-11eb-b248-4213e7ee7fac</td>\n",
       "      <td>NaN</td>\n",
       "      <td>nl</td>\n",
       "    </tr>\n",
       "  </tbody>\n",
       "</table>\n",
       "<p>2227024 rows × 4 columns</p>\n",
       "</div>"
      ],
      "text/plain": [
       "                              blast_review_id  \\\n",
       "0        00001c9e-f8a5-4b92-8c94-b02f2209c968   \n",
       "1        00002312-66bf-4c25-94fe-d8b9def65fcd   \n",
       "2        00002312-66bf-4c25-94fe-d8b9def65fcd   \n",
       "3        00002312-66bf-4c25-94fe-d8b9def65fcd   \n",
       "4        00002312-66bf-4c25-94fe-d8b9def65fcd   \n",
       "...                                       ...   \n",
       "2227019  ffffed58-5f58-4404-ada4-60492cf25614   \n",
       "2227020  ffffed58-5f58-4404-ada4-60492cf25614   \n",
       "2227021  fffff2c9-1435-4a91-891f-047d83e194a9   \n",
       "2227022  fffff2c9-1435-4a91-891f-047d83e194a9   \n",
       "2227023  fffff2c9-1435-4a91-891f-047d83e194a9   \n",
       "\n",
       "                                      test_id  \\\n",
       "0        156effcd-27f9-11ec-abc5-4213e7ee7fac   \n",
       "1        8b2a55a4-2845-11ed-b4d0-4213e7ee7fac   \n",
       "2        8b2a55a4-2845-11ed-b4d0-4213e7ee7fac   \n",
       "3        8b2a55a4-2845-11ed-b4d0-4213e7ee7fac   \n",
       "4        8b2a55a4-2845-11ed-b4d0-4213e7ee7fac   \n",
       "...                                       ...   \n",
       "2227019  3333dedb-afd7-11ea-a2fb-cec41367f4e7   \n",
       "2227020  3333dedb-afd7-11ea-a2fb-cec41367f4e7   \n",
       "2227021  0df303b2-ae4e-11eb-b248-4213e7ee7fac   \n",
       "2227022  601602ce-ae4d-11eb-b248-4213e7ee7fac   \n",
       "2227023  601602ce-ae4d-11eb-b248-4213e7ee7fac   \n",
       "\n",
       "                                       human_error_message test_language  \n",
       "0              Je gebruikt echt `DELETE` in je SQL bestand            nl  \n",
       "1                                                      NaN            nl  \n",
       "2                                                      NaN            nl  \n",
       "3                                                      NaN            nl  \n",
       "4                                                      NaN            nl  \n",
       "...                                                    ...           ...  \n",
       "2227019  Deze test controleert of jouw programma de str...            nl  \n",
       "2227020                                                NaN            nl  \n",
       "2227021                                                NaN            nl  \n",
       "2227022                                                NaN            nl  \n",
       "2227023                                                NaN            nl  \n",
       "\n",
       "[2227024 rows x 4 columns]"
      ]
     },
     "execution_count": 5,
     "metadata": {},
     "output_type": "execute_result"
    }
   ],
   "source": [
    "data_review_test_results"
   ]
  },
  {
   "cell_type": "markdown",
   "metadata": {},
   "source": [
    "Counting the tests"
   ]
  },
  {
   "cell_type": "code",
   "execution_count": 7,
   "metadata": {},
   "outputs": [
    {
     "data": {
      "text/plain": [
       "PHP_UNIT    410\n",
       "PYTHON       99\n",
       "NODE_JS      57\n",
       "C_SHARP       1\n",
       "Name: test_type, dtype: int64"
      ]
     },
     "execution_count": 7,
     "metadata": {},
     "output_type": "execute_result"
    }
   ],
   "source": [
    "unique_counts = data_tests[\"test_type\"].value_counts()\n",
    "unique_counts"
   ]
  },
  {
   "cell_type": "markdown",
   "metadata": {},
   "source": [
    "How many issues are there?"
   ]
  },
  {
   "cell_type": "code",
   "execution_count": 8,
   "metadata": {},
   "outputs": [
    {
     "data": {
      "image/png": "[encoded data removed]",
      "text/plain": [
       "<Figure size 800x800 with 1 Axes>"
      ]
     },
     "metadata": {},
     "output_type": "display_data"
    }
   ],
   "source": [
    "# Assuming you have already calculated unique_counts using value_counts()\n",
    "unique_counts = data_tests[\"test_type\"].value_counts()\n",
    "\n",
    "# Create a pie chart\n",
    "plt.figure(figsize=(8, 8))\n",
    "plt.pie(unique_counts, labels=unique_counts.index, autopct='%1.1f%%', startangle=140)\n",
    "plt.title(\"Distribution of Test Types\")\n",
    "plt.axis('equal')  # Equal aspect ratio ensures that the pie chart is circular.\n",
    "\n",
    "# Show the pie chart\n",
    "plt.show()\n"
   ]
  },
  {
   "cell_type": "markdown",
   "metadata": {},
   "source": [
    "This data is unclear, php is sorted into multiple languages. Because of linting issues, lets find out what the real issues are."
   ]
  },
  {
   "cell_type": "markdown",
   "metadata": {},
   "source": [
    "Finding the unique blast values"
   ]
  },
  {
   "cell_type": "code",
   "execution_count": 9,
   "metadata": {},
   "outputs": [
    {
     "data": {
      "text/plain": [
       "2227024"
      ]
     },
     "execution_count": 9,
     "metadata": {},
     "output_type": "execute_result"
    }
   ],
   "source": [
    "# Extracting language names from 'file_name' and counting occurrences\n",
    "language_counts_blast = data_review_test_results['blast_review_id'].count()\n",
    "\n",
    "# Displaying counts of each language\n",
    "language_counts_blast\n"
   ]
  },
  {
   "cell_type": "markdown",
   "metadata": {},
   "source": [
    "Finding the unique linting values"
   ]
  },
  {
   "cell_type": "code",
   "execution_count": 10,
   "metadata": {},
   "outputs": [
    {
     "name": "stdout",
     "output_type": "stream",
     "text": [
      "php     486192\n",
      "html    326956\n",
      "js      251930\n",
      "css      98299\n",
      "sql      78774\n",
      "py        3669\n",
      "htm       3231\n",
      "inc          5\n",
      "Name: 0, dtype: int64\n"
     ]
    }
   ],
   "source": [
    "# Extracting language names from 'file_name' and counting occurrences\n",
    "language_counts_linting = data_linting_result['file_name'].str.extract(r'\\.(\\w+)$').loc[:, 0].value_counts()\n",
    "\n",
    "# Displaying counts of each language\n",
    "print(language_counts_linting)\n"
   ]
  },
  {
   "cell_type": "markdown",
   "metadata": {},
   "source": [
    "## Vissulazing linting error's\n",
    "Making the visual more specific by sepporate the linting and blast issues, here are the linting issues;"
   ]
  },
  {
   "cell_type": "code",
   "execution_count": 11,
   "metadata": {},
   "outputs": [
    {
     "data": {
      "image/png": "[encoded data removed]",
      "text/plain": [
       "<Figure size 1000x600 with 1 Axes>"
      ]
     },
     "metadata": {},
     "output_type": "display_data"
    }
   ],
   "source": [
    "import matplotlib.pyplot as plt\n",
    "import pandas as pd\n",
    "\n",
    "# Filter the dataset for different language types\n",
    "languages_to_plot = ['php', 'html', 'sql', 'js', 'css', 'py']\n",
    "filtered_counts = language_counts_linting[language_counts_linting.index.isin(languages_to_plot)]\n",
    "\n",
    "# Plot the counts\n",
    "plt.figure(figsize=(10, 6))\n",
    "bars = plt.bar(filtered_counts.index, filtered_counts, color='paleturquoise', edgecolor='black', linewidth=0.5)\n",
    "plt.xlabel('Programming Language')\n",
    "plt.ylabel('Count')\n",
    "plt.title('Distribution of Programming Languages in Linting Errors')\n",
    "# Add total count on top of each bar\n",
    "for bar in bars:\n",
    "    plt.text(bar.get_x() + bar.get_width() / 2 - 0.1, bar.get_height() + 0.05, str(int(bar.get_height())), ha='center', va='bottom')\n",
    "\n",
    "plt.show()\n"
   ]
  },
  {
   "cell_type": "markdown",
   "metadata": {},
   "source": [
    "In summary, our analysis indicates that while programming languages differ, linting errors show a consistent pattern across them. PHP exhibits the highest error count, closely followed by HTML. This underscores the universal importance of adhering to coding standards for cleaner, more maintainable code."
   ]
  },
  {
   "cell_type": "markdown",
   "metadata": {},
   "source": [
    "The top 20 linting error codes"
   ]
  },
  {
   "cell_type": "code",
   "execution_count": 12,
   "metadata": {},
   "outputs": [
    {
     "name": "stdout",
     "output_type": "stream",
     "text": [
      "Top 20 PHP Linting Error Codes:\n",
      "Expected at least 1 space before \".\"; 0 found                      19739\n",
      "Expected at least 1 space after \".\"; 0 found                       16569\n",
      "Expected 1 space(s) after closing parenthesis; found 0             16504\n",
      "Expected 1 space after closing brace; newline found                16030\n",
      "Line indented incorrectly; expected 0 spaces, found 4              15888\n",
      "Line indented incorrectly; expected at least 4 spaces, found 0     13219\n",
      "Line indented incorrectly; expected at least 8 spaces, found 4     11564\n",
      "Space before opening parenthesis of function call prohibited       11192\n",
      "Line indented incorrectly; expected 4 spaces, found 0              10935\n",
      "Header blocks must be separated by a single blank line             10798\n",
      "Blank line found at start of control structure                     10629\n",
      "Expected 1 space(s) after closing parenthesis; found newline       10563\n",
      "Opening brace should be on a new line                              10454\n",
      "Line indented incorrectly; expected 4 spaces, found 8               9677\n",
      "Blank line found at end of control structure                        9598\n",
      "Expected 1 space(s) after IF keyword; 0 found                       9419\n",
      "Line indented incorrectly; expected at least 4 spaces, found 2      8528\n",
      "String concat is not required here; use a single string instead     8162\n",
      "Expected at least 1 space after \"=\"; 0 found                        8080\n",
      "Expected at least 1 space before \"=\"; 0 found                       8035\n",
      "Name: message, dtype: int64\n",
      "\n",
      "\n",
      "Top 20 HTML Linting Error Codes:\n",
      "The value of the “for” attribute of the “label” element must be the ID of a non-hidden form control.                                                        25288\n",
      "Element “head” is missing a required instance of child element “title”.                                                                                     19308\n",
      "Start tag “body” seen but an element of the same type was already open.                                                                                     16034\n",
      "Stray end tag “head”.                                                                                                                                       15849\n",
      "An “img” element must have an “alt” attribute, except under certain conditions. For details, consult guidance on providing text alternatives for images.     9513\n",
      "End tag for  “body” seen, but there were unclosed elements.                                                                                                  9253\n",
      "No space between attributes.                                                                                                                                 6342\n",
      "No “p” element in scope but a “p” end tag seen.                                                                                                              6017\n",
      "Element “title” not allowed as child of element “header” in this context. (Suppressing further errors from this subtree.)                                    5974\n",
      "Unclosed element “header”.                                                                                                                                   5949\n",
      "Cannot recover after last error. Any further errors will be ignored.                                                                                         5804\n",
      "Stray start tag “head”.                                                                                                                                      3612\n",
      "Duplicate ID “naam”.                                                                                                                                         3435\n",
      "Duplicate ID “name”.                                                                                                                                         3091\n",
      "Element “title” not allowed as child of element “body” in this context. (Suppressing further errors from this subtree.)                                      3073\n",
      "Stray end tag “div”.                                                                                                                                         3045\n",
      "Unclosed element “div”.                                                                                                                                      2917\n",
      "Attribute “placeholder” is only allowed when the input type is “email”, “number”, “password”, “search”, “tel”, “text”, or “url”.                             2695\n",
      "A slash was not immediately followed by “>”.                                                                                                                 2491\n",
      "Element “a” not allowed as child of element “ul” in this context. (Suppressing further errors from this subtree.)                                            2465\n",
      "Name: message, dtype: int64\n",
      "\n",
      "\n",
      "Top 20 JS Linting Error Codes:\n",
      "Missing semicolon.                                                               24213\n",
      "Expected indentation of 4 spaces but found 2.                                    20769\n",
      "Trailing spaces not allowed.                                                     16970\n",
      "Expected indentation of 8 spaces but found 4.                                    13271\n",
      "Expected indentation of 8 spaces but found 6.                                     6035\n",
      "Block must not be padded by blank lines.                                          5707\n",
      "Missing trailing comma.                                                           5259\n",
      "Expected indentation of 4 spaces but found 0.                                     5151\n",
      "Expected indentation of 0 spaces but found 2.                                     5097\n",
      "Expected indentation of 12 spaces but found 8.                                    3844\n",
      "Missing space before opening brace.                                               3652\n",
      "Unexpected tab character.                                                         3432\n",
      "Expected indentation of 4 spaces but found 8.                                     3372\n",
      "Expected indentation of 12 spaces but found 6.                                    3277\n",
      "Missing space before function parentheses.                                        3026\n",
      "Expected indentation of 0 spaces but found 4.                                     2626\n",
      "Closing curly brace does not appear on the same line as the subsequent block.     2521\n",
      "A space is required after ','.                                                    2459\n",
      "Expected exception block, space or tab after '//' in comment.                     2318\n",
      "'i' is not defined.                                                               2315\n",
      "Name: message, dtype: int64\n",
      "\n",
      "\n",
      "Top 20 CSS Linting Error Codes:\n",
      "CSS: Parse Error.                 2821\n",
      "Saw U+0000 in stream.             1381\n",
      "Forbidden code point U+0001.       850\n",
      "Forbidden code point U+0002.       811\n",
      "Malformed byte sequence: “fd”.     783\n",
      "Malformed byte sequence: “ff”.     781\n",
      "Malformed byte sequence: “fb”.     762\n",
      "Forbidden code point U+0004.       747\n",
      "Malformed byte sequence: “f7”.     743\n",
      "Forbidden code point U+0008.       728\n",
      "Malformed byte sequence: “f9”.     707\n",
      "Forbidden code point U+0010.       703\n",
      "Malformed byte sequence: “f5”.     700\n",
      "Malformed byte sequence: “fe”.     685\n",
      "Forbidden code point U+007f.       685\n",
      "Malformed byte sequence: “80”.     679\n",
      "Forbidden code point U+0003.       675\n",
      "Malformed byte sequence: “c0”.     674\n",
      "Forbidden code point U+0014.       672\n",
      "Malformed byte sequence: “fa”.     671\n",
      "Name: message, dtype: int64\n",
      "\n",
      "\n",
      "Top 20 SQL Linting Error Codes:\n",
      " Unexpected token.                                                                24405\n",
      " Unexpected beginning of statement.                                               18179\n",
      " Unrecognized keyword.                                                            12710\n",
      " Unrecognized alter operation.                                                     5622\n",
      " Unrecognized statement type.                                                      5453\n",
      " This type of clause was previously parsed.                                        2587\n",
      " An alias was expected.                                                            1292\n",
      " A new statement was found, but no delimiter between it and the previous one.      1221\n",
      " At least one column definition was expected.                                       788\n",
      " A symbol name was expected!                                                        570\n",
      " A comma or a closing bracket was expected.                                         561\n",
      " SQL file empty                                                                     497\n",
      " An expression was expected.                                                        459\n",
      " An opening bracket followed by a set of values was expected.                       421\n",
      " Unrecognized data type.                                                            414\n",
      " Missing comma before start of a new alter operation.                               395\n",
      " Unexpected keyword.                                                                311\n",
      " A closing bracket was expected.                                                    262\n",
      " An alias was previously found.                                                     259\n",
      "Commas should be followed by a single whitespace unless followed by a comment.      235\n",
      "Name: message, dtype: int64\n",
      "\n",
      "\n",
      "Top 20 PY Linting Error Codes:\n",
      "invalid syntax (<unknown>, line 1)                                       181\n",
      "Assigning result of a function call, where the function has no return     90\n",
      "invalid syntax (<unknown>, line 2)                                        87\n",
      "invalid syntax (<unknown>, line 4)                                        80\n",
      "invalid syntax (<unknown>, line 5)                                        63\n",
      "invalid syntax (<unknown>, line 3)                                        61\n",
      "Sequence index is not an int, slice, or instance with __index__           60\n",
      "Undefined variable 'cursor'                                               52\n",
      "invalid syntax (<unknown>, line 6)                                        52\n",
      "invalid syntax (<unknown>, line 8)                                        49\n",
      "invalid syntax (<unknown>, line 7)                                        48\n",
      "Undefined variable 'null'                                                 46\n",
      "Undefined variable 'sys'                                                  46\n",
      "invalid syntax (<unknown>, line 9)                                        41\n",
      "expected an indented block (<unknown>, line 3)                            41\n",
      "Too many positional arguments for function call                           39\n",
      "Undefined variable 'true'                                                 35\n",
      "Undefined variable 'Print'                                                33\n",
      "unexpected indent (<unknown>, line 1)                                     31\n",
      "Undefined variable 'x'                                                    30\n",
      "Name: message, dtype: int64\n",
      "\n",
      "\n",
      "Top 20 HTM Linting Error Codes:\n",
      "Saw U+0000 in stream.             664\n",
      "Forbidden code point U+0001.       68\n",
      "Malformed byte sequence: “fa”.     40\n",
      "Malformed byte sequence: “f6”.     40\n",
      "Malformed byte sequence: “9e”.     34\n",
      "Malformed byte sequence: “ff”.     32\n",
      "Malformed byte sequence: “bd”.     32\n",
      "Forbidden code point U+007f.       30\n",
      "Malformed byte sequence: “ea”.     30\n",
      "Malformed byte sequence: “a7”.     30\n",
      "Forbidden code point U+0003.       30\n",
      "Malformed byte sequence: “d5”.     30\n",
      "Malformed byte sequence: “de”.     28\n",
      "Malformed byte sequence: “fe”.     28\n",
      "Forbidden code point U+001f.       26\n",
      "Malformed byte sequence: “cb”.     26\n",
      "Malformed byte sequence: “a9”.     26\n",
      "Forbidden code point U+0011.       26\n",
      "Malformed byte sequence: “ba”.     24\n",
      "Malformed byte sequence: “b7”.     24\n",
      "Name: message, dtype: int64\n",
      "\n",
      "\n",
      "Top 20 INC Linting Error Codes:\n",
      "Multi-line function call not indented correctly; expected 4 spaces but found 8    3\n",
      "Line indented incorrectly; expected at least 4 spaces, found 0                    1\n",
      "Multi-line function call not indented correctly; expected 0 spaces but found 4    1\n",
      "Name: message, dtype: int64\n",
      "\n",
      "\n"
     ]
    }
   ],
   "source": [
    "for language, count in language_counts_linting.items():\n",
    "    # Filter linting error data for each language\n",
    "    language_data = data_linting_result[data_linting_result['file_name'].str.endswith(f'.{language}')]\n",
    "\n",
    "    # Get linting error codes for the current language based on 'message' column\n",
    "    error_codes = language_data['message'].value_counts()\n",
    "\n",
    "    # Print the results for the top 20 linting error codes\n",
    "    print(f'Top 20 {language.upper()} Linting Error Codes:')\n",
    "    print(error_codes.head(20))\n",
    "    print('\\n')"
   ]
  },
  {
   "cell_type": "markdown",
   "metadata": {},
   "source": [
    "## Visualizing the linting errors per linting type\n",
    "We can use this information to find out what the most common linting error is and in what language."
   ]
  },
  {
   "cell_type": "code",
   "execution_count": 15,
   "metadata": {},
   "outputs": [
    {
     "data": {
      "application/vnd.plotly.v1+json": {
       "config": {
        "plotlyServerURL": "https://plot.ly"
       },
       "data": [
        {
         "cells": {
          "align": "left",
          "fill": {
           "color": "#232448"
          },
          "font": {
           "color": "#56C596"
          },
          "line": {
           "color": "#191A24"
          },
          "values": [
           [
            "css",
            "css",
            "css",
            "css",
            "css",
            "css",
            "css",
            "css",
            "css",
            "css",
            "css",
            "css",
            "css",
            "css",
            "css",
            "css",
            "css",
            "css",
            "css",
            "css",
            "htm",
            "htm",
            "htm",
            "htm",
            "htm",
            "htm",
            "htm",
            "htm",
            "htm",
            "htm",
            "htm",
            "htm",
            "htm",
            "htm",
            "htm",
            "htm",
            "htm",
            "htm",
            "htm",
            "htm",
            "html",
            "html",
            "html",
            "html",
            "html",
            "html",
            "html",
            "html",
            "html",
            "html",
            "html",
            "html",
            "html",
            "html",
            "html",
            "html",
            "html",
            "html",
            "html",
            "html",
            "inc",
            "inc",
            "inc",
            "js",
            "js",
            "js",
            "js",
            "js",
            "js",
            "js",
            "js",
            "js",
            "js",
            "js",
            "js",
            "js",
            "js",
            "js",
            "js",
            "js",
            "js",
            "js",
            "js",
            "php",
            "php",
            "php",
            "php",
            "php",
            "php",
            "php",
            "php",
            "php",
            "php",
            "php",
            "php",
            "php",
            "php",
            "php",
            "php",
            "php",
            "php",
            "php",
            "php",
            "py",
            "py",
            "py",
            "py",
            "py",
            "py",
            "py",
            "py",
            "py",
            "py",
            "py",
            "py",
            "py",
            "py",
            "py",
            "py",
            "py",
            "py",
            "py",
            "py",
            "sql",
            "sql",
            "sql",
            "sql",
            "sql",
            "sql",
            "sql",
            "sql",
            "sql",
            "sql",
            "sql",
            "sql",
            "sql",
            "sql",
            "sql",
            "sql",
            "sql",
            "sql",
            "sql",
            "sql"
           ],
           [
            "CSS: Parse Error.",
            "Saw U+0000 in stream.",
            "Forbidden code point U+0001.",
            "Forbidden code point U+0002.",
            "Malformed byte sequence: “fd”.",
            "Malformed byte sequence: “ff”.",
            "Malformed byte sequence: “fb”.",
            "Forbidden code point U+0004.",
            "Malformed byte sequence: “f7”.",
            "Forbidden code point U+0008.",
            "Malformed byte sequence: “f9”.",
            "Forbidden code point U+0010.",
            "Malformed byte sequence: “f5”.",
            "Forbidden code point U+007f.",
            "Malformed byte sequence: “fe”.",
            "Malformed byte sequence: “80”.",
            "Forbidden code point U+0003.",
            "Malformed byte sequence: “c0”.",
            "Forbidden code point U+0014.",
            "Malformed byte sequence: “fa”.",
            "Saw U+0000 in stream.",
            "Forbidden code point U+0001.",
            "Malformed byte sequence: “f6”.",
            "Malformed byte sequence: “fa”.",
            "Malformed byte sequence: “9e”.",
            "Malformed byte sequence: “bd”.",
            "Malformed byte sequence: “ff”.",
            "Forbidden code point U+0003.",
            "Forbidden code point U+007f.",
            "Malformed byte sequence: “a7”.",
            "Malformed byte sequence: “d5”.",
            "Malformed byte sequence: “ea”.",
            "Malformed byte sequence: “de”.",
            "Malformed byte sequence: “fe”.",
            "Forbidden code point U+0011.",
            "Forbidden code point U+001f.",
            "Malformed byte sequence: “a9”.",
            "Malformed byte sequence: “cb”.",
            "Malformed byte sequence: “a5”.",
            "Malformed byte sequence: “aa”.",
            "The value of the “for” attribute of the “label” element must be the ID of a non-hidden form control.",
            "Element “head” is missing a required instance of child element “title”.",
            "Start tag “body” seen but an element of the same type was already open.",
            "Stray end tag “head”.",
            "An “img” element must have an “alt” attribute, except under certain conditions. For details, consult guidance on providing text alternatives for images.",
            "End tag for  “body” seen, but there were unclosed elements.",
            "No space between attributes.",
            "No “p” element in scope but a “p” end tag seen.",
            "Element “title” not allowed as child of element “header” in this context. (Suppressing further errors from this subtree.)",
            "Unclosed element “header”.",
            "Cannot recover after last error. Any further errors will be ignored.",
            "Stray start tag “head”.",
            "Duplicate ID “naam”.",
            "Duplicate ID “name”.",
            "Element “title” not allowed as child of element “body” in this context. (Suppressing further errors from this subtree.)",
            "Stray end tag “div”.",
            "Unclosed element “div”.",
            "Attribute “placeholder” is only allowed when the input type is “email”, “number”, “password”, “search”, “tel”, “text”, or “url”.",
            "A slash was not immediately followed by “>”.",
            "Element “a” not allowed as child of element “ul” in this context. (Suppressing further errors from this subtree.)",
            "Multi-line function call not indented correctly; expected 4 spaces but found 8",
            "Line indented incorrectly; expected at least 4 spaces, found 0",
            "Multi-line function call not indented correctly; expected 0 spaces but found 4",
            "Missing semicolon.",
            "Expected indentation of 4 spaces but found 2.",
            "Trailing spaces not allowed.",
            "Expected indentation of 8 spaces but found 4.",
            "Expected indentation of 8 spaces but found 6.",
            "Block must not be padded by blank lines.",
            "Missing trailing comma.",
            "Expected indentation of 4 spaces but found 0.",
            "Expected indentation of 0 spaces but found 2.",
            "Expected indentation of 12 spaces but found 8.",
            "Missing space before opening brace.",
            "Unexpected tab character.",
            "Expected indentation of 4 spaces but found 8.",
            "Expected indentation of 12 spaces but found 6.",
            "Missing space before function parentheses.",
            "Expected indentation of 0 spaces but found 4.",
            "Closing curly brace does not appear on the same line as the subsequent block.",
            "A space is required after ','.",
            "Expected exception block, space or tab after '//' in comment.",
            "'i' is not defined.",
            "Expected at least 1 space before \".\"; 0 found",
            "Expected at least 1 space after \".\"; 0 found",
            "Expected 1 space(s) after closing parenthesis; found 0",
            "Expected 1 space after closing brace; newline found",
            "Line indented incorrectly; expected 0 spaces, found 4",
            "Line indented incorrectly; expected at least 4 spaces, found 0",
            "Line indented incorrectly; expected at least 8 spaces, found 4",
            "Space before opening parenthesis of function call prohibited",
            "Line indented incorrectly; expected 4 spaces, found 0",
            "Header blocks must be separated by a single blank line",
            "Blank line found at start of control structure",
            "Expected 1 space(s) after closing parenthesis; found newline",
            "Opening brace should be on a new line",
            "Line indented incorrectly; expected 4 spaces, found 8",
            "Blank line found at end of control structure",
            "Expected 1 space(s) after IF keyword; 0 found",
            "Line indented incorrectly; expected at least 4 spaces, found 2",
            "String concat is not required here; use a single string instead",
            "Expected at least 1 space after \"=\"; 0 found",
            "Expected at least 1 space before \"=\"; 0 found",
            "invalid syntax (<unknown>, line 1)",
            "Assigning result of a function call, where the function has no return",
            "invalid syntax (<unknown>, line 2)",
            "invalid syntax (<unknown>, line 4)",
            "invalid syntax (<unknown>, line 5)",
            "invalid syntax (<unknown>, line 3)",
            "Sequence index is not an int, slice, or instance with __index__",
            "Undefined variable 'cursor'",
            "invalid syntax (<unknown>, line 6)",
            "invalid syntax (<unknown>, line 8)",
            "invalid syntax (<unknown>, line 7)",
            "Undefined variable 'null'",
            "Undefined variable 'sys'",
            "expected an indented block (<unknown>, line 3)",
            "invalid syntax (<unknown>, line 9)",
            "Too many positional arguments for function call",
            "Undefined variable 'true'",
            "Undefined variable 'Print'",
            "unexpected indent (<unknown>, line 1)",
            "Undefined variable 'x'",
            " Unexpected token.",
            " Unexpected beginning of statement.",
            " Unrecognized keyword.",
            " Unrecognized alter operation.",
            " Unrecognized statement type.",
            " This type of clause was previously parsed.",
            " An alias was expected.",
            " A new statement was found, but no delimiter between it and the previous one.",
            " At least one column definition was expected.",
            " A symbol name was expected!",
            " A comma or a closing bracket was expected.",
            " SQL file empty",
            " An expression was expected.",
            " An opening bracket followed by a set of values was expected.",
            " Unrecognized data type.",
            " Missing comma before start of a new alter operation.",
            " Unexpected keyword.",
            " A closing bracket was expected.",
            " An alias was previously found.",
            "Commas should be followed by a single whitespace unless followed by a comment."
           ],
           [
            2821,
            1381,
            850,
            811,
            783,
            781,
            762,
            747,
            743,
            728,
            707,
            703,
            700,
            685,
            685,
            679,
            675,
            674,
            672,
            671,
            664,
            68,
            40,
            40,
            34,
            32,
            32,
            30,
            30,
            30,
            30,
            30,
            28,
            28,
            26,
            26,
            26,
            26,
            24,
            24,
            25288,
            19308,
            16034,
            15849,
            9513,
            9253,
            6342,
            6017,
            5974,
            5949,
            5804,
            3612,
            3435,
            3091,
            3073,
            3045,
            2917,
            2695,
            2491,
            2465,
            3,
            1,
            1,
            24213,
            20769,
            16970,
            13271,
            6035,
            5707,
            5259,
            5151,
            5097,
            3844,
            3652,
            3432,
            3372,
            3277,
            3026,
            2626,
            2521,
            2459,
            2318,
            2315,
            19739,
            16569,
            16504,
            16030,
            15888,
            13219,
            11564,
            11192,
            10935,
            10798,
            10629,
            10563,
            10454,
            9677,
            9598,
            9419,
            8528,
            8162,
            8080,
            8035,
            181,
            90,
            87,
            80,
            63,
            61,
            60,
            52,
            52,
            49,
            48,
            46,
            46,
            41,
            41,
            39,
            35,
            33,
            31,
            30,
            24405,
            18179,
            12710,
            5622,
            5453,
            2587,
            1292,
            1221,
            788,
            570,
            561,
            497,
            459,
            421,
            414,
            395,
            311,
            262,
            259,
            235
           ]
          ]
         },
         "header": {
          "align": "left",
          "fill": {
           "color": "#191A24"
          },
          "font": {
           "color": "#56C596"
          },
          "line": {
           "color": "#191A24"
          },
          "values": [
           "<b>Language<b>",
           "<b>Message<b>",
           "<b>Count<b>"
          ]
         },
         "type": "table"
        }
       ],
       "layout": {
        "autosize": true,
        "height": 600,
        "margin": {
         "b": 0,
         "l": 0,
         "r": 0,
         "t": 0
        },
        "template": {
         "data": {
          "bar": [
           {
            "error_x": {
             "color": "#2a3f5f"
            },
            "error_y": {
             "color": "#2a3f5f"
            },
            "marker": {
             "line": {
              "color": "#E5ECF6",
              "width": 0.5
             },
             "pattern": {
              "fillmode": "overlay",
              "size": 10,
              "solidity": 0.2
             }
            },
            "type": "bar"
           }
          ],
          "barpolar": [
           {
            "marker": {
             "line": {
              "color": "#E5ECF6",
              "width": 0.5
             },
             "pattern": {
              "fillmode": "overlay",
              "size": 10,
              "solidity": 0.2
             }
            },
            "type": "barpolar"
           }
          ],
          "carpet": [
           {
            "aaxis": {
             "endlinecolor": "#2a3f5f",
             "gridcolor": "white",
             "linecolor": "white",
             "minorgridcolor": "white",
             "startlinecolor": "#2a3f5f"
            },
            "baxis": {
             "endlinecolor": "#2a3f5f",
             "gridcolor": "white",
             "linecolor": "white",
             "minorgridcolor": "white",
             "startlinecolor": "#2a3f5f"
            },
            "type": "carpet"
           }
          ],
          "choropleth": [
           {
            "colorbar": {
             "outlinewidth": 0,
             "ticks": ""
            },
            "type": "choropleth"
           }
          ],
          "contour": [
           {
            "colorbar": {
             "outlinewidth": 0,
             "ticks": ""
            },
            "colorscale": [
             [
              0,
              "#0d0887"
             ],
             [
              0.1111111111111111,
              "#46039f"
             ],
             [
              0.2222222222222222,
              "#7201a8"
             ],
             [
              0.3333333333333333,
              "#9c179e"
             ],
             [
              0.4444444444444444,
              "#bd3786"
             ],
             [
              0.5555555555555556,
              "#d8576b"
             ],
             [
              0.6666666666666666,
              "#ed7953"
             ],
             [
              0.7777777777777778,
              "#fb9f3a"
             ],
             [
              0.8888888888888888,
              "#fdca26"
             ],
             [
              1,
              "#f0f921"
             ]
            ],
            "type": "contour"
           }
          ],
          "contourcarpet": [
           {
            "colorbar": {
             "outlinewidth": 0,
             "ticks": ""
            },
            "type": "contourcarpet"
           }
          ],
          "heatmap": [
           {
            "colorbar": {
             "outlinewidth": 0,
             "ticks": ""
            },
            "colorscale": [
             [
              0,
              "#0d0887"
             ],
             [
              0.1111111111111111,
              "#46039f"
             ],
             [
              0.2222222222222222,
              "#7201a8"
             ],
             [
              0.3333333333333333,
              "#9c179e"
             ],
             [
              0.4444444444444444,
              "#bd3786"
             ],
             [
              0.5555555555555556,
              "#d8576b"
             ],
             [
              0.6666666666666666,
              "#ed7953"
             ],
             [
              0.7777777777777778,
              "#fb9f3a"
             ],
             [
              0.8888888888888888,
              "#fdca26"
             ],
             [
              1,
              "#f0f921"
             ]
            ],
            "type": "heatmap"
           }
          ],
          "heatmapgl": [
           {
            "colorbar": {
             "outlinewidth": 0,
             "ticks": ""
            },
            "colorscale": [
             [
              0,
              "#0d0887"
             ],
             [
              0.1111111111111111,
              "#46039f"
             ],
             [
              0.2222222222222222,
              "#7201a8"
             ],
             [
              0.3333333333333333,
              "#9c179e"
             ],
             [
              0.4444444444444444,
              "#bd3786"
             ],
             [
              0.5555555555555556,
              "#d8576b"
             ],
             [
              0.6666666666666666,
              "#ed7953"
             ],
             [
              0.7777777777777778,
              "#fb9f3a"
             ],
             [
              0.8888888888888888,
              "#fdca26"
             ],
             [
              1,
              "#f0f921"
             ]
            ],
            "type": "heatmapgl"
           }
          ],
          "histogram": [
           {
            "marker": {
             "pattern": {
              "fillmode": "overlay",
              "size": 10,
              "solidity": 0.2
             }
            },
            "type": "histogram"
           }
          ],
          "histogram2d": [
           {
            "colorbar": {
             "outlinewidth": 0,
             "ticks": ""
            },
            "colorscale": [
             [
              0,
              "#0d0887"
             ],
             [
              0.1111111111111111,
              "#46039f"
             ],
             [
              0.2222222222222222,
              "#7201a8"
             ],
             [
              0.3333333333333333,
              "#9c179e"
             ],
             [
              0.4444444444444444,
              "#bd3786"
             ],
             [
              0.5555555555555556,
              "#d8576b"
             ],
             [
              0.6666666666666666,
              "#ed7953"
             ],
             [
              0.7777777777777778,
              "#fb9f3a"
             ],
             [
              0.8888888888888888,
              "#fdca26"
             ],
             [
              1,
              "#f0f921"
             ]
            ],
            "type": "histogram2d"
           }
          ],
          "histogram2dcontour": [
           {
            "colorbar": {
             "outlinewidth": 0,
             "ticks": ""
            },
            "colorscale": [
             [
              0,
              "#0d0887"
             ],
             [
              0.1111111111111111,
              "#46039f"
             ],
             [
              0.2222222222222222,
              "#7201a8"
             ],
             [
              0.3333333333333333,
              "#9c179e"
             ],
             [
              0.4444444444444444,
              "#bd3786"
             ],
             [
              0.5555555555555556,
              "#d8576b"
             ],
             [
              0.6666666666666666,
              "#ed7953"
             ],
             [
              0.7777777777777778,
              "#fb9f3a"
             ],
             [
              0.8888888888888888,
              "#fdca26"
             ],
             [
              1,
              "#f0f921"
             ]
            ],
            "type": "histogram2dcontour"
           }
          ],
          "mesh3d": [
           {
            "colorbar": {
             "outlinewidth": 0,
             "ticks": ""
            },
            "type": "mesh3d"
           }
          ],
          "parcoords": [
           {
            "line": {
             "colorbar": {
              "outlinewidth": 0,
              "ticks": ""
             }
            },
            "type": "parcoords"
           }
          ],
          "pie": [
           {
            "automargin": true,
            "type": "pie"
           }
          ],
          "scatter": [
           {
            "fillpattern": {
             "fillmode": "overlay",
             "size": 10,
             "solidity": 0.2
            },
            "type": "scatter"
           }
          ],
          "scatter3d": [
           {
            "line": {
             "colorbar": {
              "outlinewidth": 0,
              "ticks": ""
             }
            },
            "marker": {
             "colorbar": {
              "outlinewidth": 0,
              "ticks": ""
             }
            },
            "type": "scatter3d"
           }
          ],
          "scattercarpet": [
           {
            "marker": {
             "colorbar": {
              "outlinewidth": 0,
              "ticks": ""
             }
            },
            "type": "scattercarpet"
           }
          ],
          "scattergeo": [
           {
            "marker": {
             "colorbar": {
              "outlinewidth": 0,
              "ticks": ""
             }
            },
            "type": "scattergeo"
           }
          ],
          "scattergl": [
           {
            "marker": {
             "colorbar": {
              "outlinewidth": 0,
              "ticks": ""
             }
            },
            "type": "scattergl"
           }
          ],
          "scattermapbox": [
           {
            "marker": {
             "colorbar": {
              "outlinewidth": 0,
              "ticks": ""
             }
            },
            "type": "scattermapbox"
           }
          ],
          "scatterpolar": [
           {
            "marker": {
             "colorbar": {
              "outlinewidth": 0,
              "ticks": ""
             }
            },
            "type": "scatterpolar"
           }
          ],
          "scatterpolargl": [
           {
            "marker": {
             "colorbar": {
              "outlinewidth": 0,
              "ticks": ""
             }
            },
            "type": "scatterpolargl"
           }
          ],
          "scatterternary": [
           {
            "marker": {
             "colorbar": {
              "outlinewidth": 0,
              "ticks": ""
             }
            },
            "type": "scatterternary"
           }
          ],
          "surface": [
           {
            "colorbar": {
             "outlinewidth": 0,
             "ticks": ""
            },
            "colorscale": [
             [
              0,
              "#0d0887"
             ],
             [
              0.1111111111111111,
              "#46039f"
             ],
             [
              0.2222222222222222,
              "#7201a8"
             ],
             [
              0.3333333333333333,
              "#9c179e"
             ],
             [
              0.4444444444444444,
              "#bd3786"
             ],
             [
              0.5555555555555556,
              "#d8576b"
             ],
             [
              0.6666666666666666,
              "#ed7953"
             ],
             [
              0.7777777777777778,
              "#fb9f3a"
             ],
             [
              0.8888888888888888,
              "#fdca26"
             ],
             [
              1,
              "#f0f921"
             ]
            ],
            "type": "surface"
           }
          ],
          "table": [
           {
            "cells": {
             "fill": {
              "color": "#EBF0F8"
             },
             "line": {
              "color": "white"
             }
            },
            "header": {
             "fill": {
              "color": "#C8D4E3"
             },
             "line": {
              "color": "white"
             }
            },
            "type": "table"
           }
          ]
         },
         "layout": {
          "annotationdefaults": {
           "arrowcolor": "#2a3f5f",
           "arrowhead": 0,
           "arrowwidth": 1
          },
          "autotypenumbers": "strict",
          "coloraxis": {
           "colorbar": {
            "outlinewidth": 0,
            "ticks": ""
           }
          },
          "colorscale": {
           "diverging": [
            [
             0,
             "#8e0152"
            ],
            [
             0.1,
             "#c51b7d"
            ],
            [
             0.2,
             "#de77ae"
            ],
            [
             0.3,
             "#f1b6da"
            ],
            [
             0.4,
             "#fde0ef"
            ],
            [
             0.5,
             "#f7f7f7"
            ],
            [
             0.6,
             "#e6f5d0"
            ],
            [
             0.7,
             "#b8e186"
            ],
            [
             0.8,
             "#7fbc41"
            ],
            [
             0.9,
             "#4d9221"
            ],
            [
             1,
             "#276419"
            ]
           ],
           "sequential": [
            [
             0,
             "#0d0887"
            ],
            [
             0.1111111111111111,
             "#46039f"
            ],
            [
             0.2222222222222222,
             "#7201a8"
            ],
            [
             0.3333333333333333,
             "#9c179e"
            ],
            [
             0.4444444444444444,
             "#bd3786"
            ],
            [
             0.5555555555555556,
             "#d8576b"
            ],
            [
             0.6666666666666666,
             "#ed7953"
            ],
            [
             0.7777777777777778,
             "#fb9f3a"
            ],
            [
             0.8888888888888888,
             "#fdca26"
            ],
            [
             1,
             "#f0f921"
            ]
           ],
           "sequentialminus": [
            [
             0,
             "#0d0887"
            ],
            [
             0.1111111111111111,
             "#46039f"
            ],
            [
             0.2222222222222222,
             "#7201a8"
            ],
            [
             0.3333333333333333,
             "#9c179e"
            ],
            [
             0.4444444444444444,
             "#bd3786"
            ],
            [
             0.5555555555555556,
             "#d8576b"
            ],
            [
             0.6666666666666666,
             "#ed7953"
            ],
            [
             0.7777777777777778,
             "#fb9f3a"
            ],
            [
             0.8888888888888888,
             "#fdca26"
            ],
            [
             1,
             "#f0f921"
            ]
           ]
          },
          "colorway": [
           "#636efa",
           "#EF553B",
           "#00cc96",
           "#ab63fa",
           "#FFA15A",
           "#19d3f3",
           "#FF6692",
           "#B6E880",
           "#FF97FF",
           "#FECB52"
          ],
          "font": {
           "color": "#2a3f5f"
          },
          "geo": {
           "bgcolor": "white",
           "lakecolor": "white",
           "landcolor": "#E5ECF6",
           "showlakes": true,
           "showland": true,
           "subunitcolor": "white"
          },
          "hoverlabel": {
           "align": "left"
          },
          "hovermode": "closest",
          "mapbox": {
           "style": "light"
          },
          "paper_bgcolor": "white",
          "plot_bgcolor": "#E5ECF6",
          "polar": {
           "angularaxis": {
            "gridcolor": "white",
            "linecolor": "white",
            "ticks": ""
           },
           "bgcolor": "#E5ECF6",
           "radialaxis": {
            "gridcolor": "white",
            "linecolor": "white",
            "ticks": ""
           }
          },
          "scene": {
           "xaxis": {
            "backgroundcolor": "#E5ECF6",
            "gridcolor": "white",
            "gridwidth": 2,
            "linecolor": "white",
            "showbackground": true,
            "ticks": "",
            "zerolinecolor": "white"
           },
           "yaxis": {
            "backgroundcolor": "#E5ECF6",
            "gridcolor": "white",
            "gridwidth": 2,
            "linecolor": "white",
            "showbackground": true,
            "ticks": "",
            "zerolinecolor": "white"
           },
           "zaxis": {
            "backgroundcolor": "#E5ECF6",
            "gridcolor": "white",
            "gridwidth": 2,
            "linecolor": "white",
            "showbackground": true,
            "ticks": "",
            "zerolinecolor": "white"
           }
          },
          "shapedefaults": {
           "line": {
            "color": "#2a3f5f"
           }
          },
          "ternary": {
           "aaxis": {
            "gridcolor": "white",
            "linecolor": "white",
            "ticks": ""
           },
           "baxis": {
            "gridcolor": "white",
            "linecolor": "white",
            "ticks": ""
           },
           "bgcolor": "#E5ECF6",
           "caxis": {
            "gridcolor": "white",
            "linecolor": "white",
            "ticks": ""
           }
          },
          "title": {
           "x": 0.05
          },
          "xaxis": {
           "automargin": true,
           "gridcolor": "white",
           "linecolor": "white",
           "ticks": "",
           "title": {
            "standoff": 15
           },
           "zerolinecolor": "white",
           "zerolinewidth": 2
          },
          "yaxis": {
           "automargin": true,
           "gridcolor": "white",
           "linecolor": "white",
           "ticks": "",
           "title": {
            "standoff": 15
           },
           "zerolinecolor": "white",
           "zerolinewidth": 2
          }
         }
        }
       }
      }
     },
     "metadata": {},
     "output_type": "display_data"
    }
   ],
   "source": [
    "# Extracting language names from 'file_name'\n",
    "data_linting_result['language'] = data_linting_result['file_name'].str.extract(r'\\.(\\w+)$')\n",
    "\n",
    "# Counting occurrences of each linting message per language\n",
    "linting_message_counts = data_linting_result.groupby(['language', 'message']).size().reset_index(name='count')\n",
    "\n",
    "# Finding the top 20 linting messages per language\n",
    "top_messages_per_language = linting_message_counts.groupby('language').apply(lambda x: x.nlargest(20, 'count')).reset_index(drop=True)\n",
    "\n",
    "# Sorting the table by language and count\n",
    "top_messages_per_language = top_messages_per_language.sort_values(by=['language', 'count'], ascending=[True, False])\n",
    "\n",
    "# Create a new DataFrame for the table\n",
    "table_data = top_messages_per_language[['language', 'message', 'count']]\n",
    "\n",
    "# Set the text color and border color\n",
    "text_color = '#56C596'\n",
    "border_color = '#191A24'\n",
    "\n",
    "# Create the table figure\n",
    "fig = go.Figure(data=[go.Table(\n",
    "    header=dict(values=['<b>Language<b>', '<b>Message<b>', '<b>Count<b>'],\n",
    "                fill_color=border_color,  # Set border color for header\n",
    "                line_color=border_color,  # Set border color for header\n",
    "                font=dict(color=text_color),  # Set text color for header\n",
    "                align='left'),\n",
    "    cells=dict(values=[table_data['language'], table_data['message'], table_data['count']],\n",
    "               fill_color='#232448',\n",
    "               line_color=border_color,  # Set border color for cells\n",
    "               font=dict(color=text_color),  # Set text color for cells\n",
    "               align='left'))\n",
    "])\n",
    "\n",
    "# Set layout properties for a scrollable table\n",
    "fig.update_layout(\n",
    "    height=600,\n",
    "    autosize=True,\n",
    "    margin=dict(l=0, r=0, b=0, t=0),\n",
    ")\n",
    "\n",
    "fig.show()\n"
   ]
  },
  {
   "cell_type": "markdown",
   "metadata": {},
   "source": [
    "## Visualizing blast error's\n",
    "Making the visual more specific by sepporate the linting and blast issues, here are the blast error's;"
   ]
  },
  {
   "cell_type": "code",
   "execution_count": 13,
   "metadata": {},
   "outputs": [
    {
     "name": "stderr",
     "output_type": "stream",
     "text": [
      "C:\\Users\\mitzb\\AppData\\Local\\Temp\\ipykernel_19036\\4214042286.py:5: SettingWithCopyWarning:\n",
      "\n",
      "\n",
      "A value is trying to be set on a copy of a slice from a DataFrame.\n",
      "Try using .loc[row_indexer,col_indexer] = value instead\n",
      "\n",
      "See the caveats in the documentation: https://pandas.pydata.org/pandas-docs/stable/user_guide/indexing.html#returning-a-view-versus-a-copy\n",
      "\n"
     ]
    },
    {
     "data": {
      "image/png": "[encoded data removed]",
      "text/plain": [
       "<Figure size 1000x600 with 1 Axes>"
      ]
     },
     "metadata": {},
     "output_type": "display_data"
    }
   ],
   "source": [
    "import matplotlib.pyplot as plt\n",
    "import pandas as pd\n",
    "\n",
    "# Convert blast_review_id to lowercase and remove leading/trailing spaces\n",
    "data_review_test_results['blast_review_id'] = data_review_test_results['blast_review_id'].str.lower().str.strip()\n",
    "data_linting_result['blast_review_id'] = data_linting_result['blast_review_id'].str.lower().str.strip()\n",
    "\n",
    "# Merge DataFrames on blast_review_id\n",
    "merged_data = pd.merge(data_review_test_results, data_linting_result, on=\"blast_review_id\", how=\"inner\")\n",
    "\n",
    "# Drop rows where only blast_review_id is present and not test_id\n",
    "merged_data.dropna(subset=[\"test_id\"], inplace=True)\n",
    "\n",
    "# Extracting language names from 'file_name' and counting occurrences\n",
    "language_counts = merged_data['file_name'].str.extract(r'\\.(\\w+)$').loc[:, 0].value_counts()\n",
    "\n",
    "# Filter the dataset for different language types\n",
    "languages_to_plot = ['php', 'html', 'sql', 'js', 'css', 'py']\n",
    "filtered_counts = language_counts[language_counts.index.isin(languages_to_plot)]\n",
    "\n",
    "# Plot the counts\n",
    "plt.figure(figsize=(10, 6))\n",
    "bars = plt.bar(filtered_counts.index, filtered_counts, color='paleturquoise', edgecolor='black', linewidth=0.5)\n",
    "plt.xlabel('Programming Language')\n",
    "plt.ylabel('Count')\n",
    "plt.title('Distribution of Programming Languages in blast Errors')\n",
    "\n",
    "# Set y-axis format to display whole numbers\n",
    "plt.ticklabel_format(axis='y', style='plain')\n",
    "\n",
    "# Add total count on top of each bar\n",
    "for bar in bars:\n",
    "    plt.text(bar.get_x() + bar.get_width() / 2 - 0.1, bar.get_height() + 0.05, str(int(bar.get_height())), ha='center', va='bottom')\n",
    "\n",
    "plt.show()\n"
   ]
  },
  {
   "cell_type": "markdown",
   "metadata": {},
   "source": [
    "It is evident from the data that there are significantly more occurrences of blast errors than linting errors. PHP stands out as the programming language with the highest incidence of errors, followed closely by HTML. This observation underscores the importance of thorough testing and error handling, particularly in PHP and HTML development environments."
   ]
  }
 ],
 "metadata": {
  "kernelspec": {
   "display_name": "venv",
   "language": "python",
   "name": "python3"
  },
  "language_info": {
   "codemirror_mode": {
    "name": "ipython",
    "version": 3
   },
   "file_extension": ".py",
   "mimetype": "text/x-python",
   "name": "python",
   "nbconvert_exporter": "python",
   "pygments_lexer": "ipython3",
   "version": "3.10.11"
  }
 },
 "nbformat": 4,
 "nbformat_minor": 2
}

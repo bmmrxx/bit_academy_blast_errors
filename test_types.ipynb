{
 "cells": [
  {
   "cell_type": "markdown",
   "metadata": {},
   "source": [
    "# Test Types\n",
    "In this visuals we want to discorer the following\n",
    "\n",
    "* Visualize what test types are being used the most.\n",
    "* Visualize what test types give the most issues(blast and linter)"
   ]
  },
  {
   "cell_type": "markdown",
   "metadata": {},
   "source": [
    "importing libararies"
   ]
  },
  {
   "cell_type": "code",
   "execution_count": 175,
   "metadata": {},
   "outputs": [],
   "source": [
    "import numpy as np\n",
    "import pandas as pd\n",
    "import matplotlib.pyplot as plt"
   ]
  },
  {
   "cell_type": "markdown",
   "metadata": {},
   "source": [
    "## Loading the data"
   ]
  },
  {
   "cell_type": "code",
   "execution_count": 176,
   "metadata": {},
   "outputs": [],
   "source": [
    "read_linting_results = pd.read_csv('data/blast_linting_results.csv')\n",
    "read_review_test_results = pd.read_csv('data/blast_review_test_results.csv')\n",
    "read_reviews = pd.read_csv('data/blast_reviews.csv')\n",
    "data_tests = pd.read_csv('data/blast_tests.csv')\n",
    "read_code_blast_tests = pd.read_csv('data/code_blast_tests.csv')\n",
    "read_exercises = pd.read_csv('data/exercises.csv')\n",
    "data_implementation_exercise = pd.read_csv('data/implementation_exercise.csv')"
   ]
  },
  {
   "cell_type": "markdown",
   "metadata": {},
   "source": [
    "# Cleaned data"
   ]
  },
  {
   "cell_type": "code",
   "execution_count": 177,
   "metadata": {},
   "outputs": [],
   "source": [
    "data_linting_result_warning= read_linting_results[['blast_review_id', 'file_name', 'message', 'type', 'line', 'column']]\n",
    "data_linting_result = data_linting_result_warning[data_linting_result_warning['type'].str.lower().isin(['error'])]\n",
    "\n",
    "data_review_test_results = read_review_test_results[['blast_review_id', 'test_id', 'human_error_message', 'test_language']]\n",
    "\n",
    "data_reviews = read_reviews[['id', 'implementation_id', 'state', 'created_on']]\n",
    "\n",
    "data_exercises = read_exercises[['id', 'title', 'files_to_turn_in']]\n",
    "\n",
    "data_code_blast_tests = read_code_blast_tests[['id', 'exercise_id', 'title', 'test_type', 'created_on', 'language']]"
   ]
  },
  {
   "cell_type": "code",
   "execution_count": 178,
   "metadata": {},
   "outputs": [
    {
     "data": {
      "text/html": [
       "<div>\n",
       "<style scoped>\n",
       "    .dataframe tbody tr th:only-of-type {\n",
       "        vertical-align: middle;\n",
       "    }\n",
       "\n",
       "    .dataframe tbody tr th {\n",
       "        vertical-align: top;\n",
       "    }\n",
       "\n",
       "    .dataframe thead th {\n",
       "        text-align: right;\n",
       "    }\n",
       "</style>\n",
       "<table border=\"1\" class=\"dataframe\">\n",
       "  <thead>\n",
       "    <tr style=\"text-align: right;\">\n",
       "      <th></th>\n",
       "      <th>blast_review_id</th>\n",
       "      <th>file_name</th>\n",
       "      <th>message</th>\n",
       "      <th>type</th>\n",
       "      <th>line</th>\n",
       "      <th>column</th>\n",
       "    </tr>\n",
       "  </thead>\n",
       "  <tbody>\n",
       "    <tr>\n",
       "      <th>0</th>\n",
       "      <td>48994f15-1b24-11ea-ab6c-cec41367f4e7</td>\n",
       "      <td>/wisselgeld.php</td>\n",
       "      <td>There must be a single space between the closi...</td>\n",
       "      <td>ERROR</td>\n",
       "      <td>13</td>\n",
       "      <td>18</td>\n",
       "    </tr>\n",
       "    <tr>\n",
       "      <th>1</th>\n",
       "      <td>902b5ef6-1b24-11ea-ab6c-cec41367f4e7</td>\n",
       "      <td>/tijd.php</td>\n",
       "      <td>There must be a single space between the closi...</td>\n",
       "      <td>ERROR</td>\n",
       "      <td>2</td>\n",
       "      <td>27</td>\n",
       "    </tr>\n",
       "    <tr>\n",
       "      <th>2</th>\n",
       "      <td>a210c4d7-1b24-11ea-ab6c-cec41367f4e7</td>\n",
       "      <td>/wisselgeld.php</td>\n",
       "      <td>There must be a single space between the closi...</td>\n",
       "      <td>ERROR</td>\n",
       "      <td>14</td>\n",
       "      <td>18</td>\n",
       "    </tr>\n",
       "    <tr>\n",
       "      <th>3</th>\n",
       "      <td>bc8d258f-1b2a-11ea-ab6c-cec41367f4e7</td>\n",
       "      <td>/cart.php</td>\n",
       "      <td>Line indented incorrectly; expected 8 spaces, ...</td>\n",
       "      <td>ERROR</td>\n",
       "      <td>27</td>\n",
       "      <td>1</td>\n",
       "    </tr>\n",
       "    <tr>\n",
       "      <th>4</th>\n",
       "      <td>bc8d258f-1b2a-11ea-ab6c-cec41367f4e7</td>\n",
       "      <td>/cart.php</td>\n",
       "      <td>There must be a single space between the closi...</td>\n",
       "      <td>ERROR</td>\n",
       "      <td>27</td>\n",
       "      <td>29</td>\n",
       "    </tr>\n",
       "    <tr>\n",
       "      <th>...</th>\n",
       "      <td>...</td>\n",
       "      <td>...</td>\n",
       "      <td>...</td>\n",
       "      <td>...</td>\n",
       "      <td>...</td>\n",
       "      <td>...</td>\n",
       "    </tr>\n",
       "    <tr>\n",
       "      <th>1341110</th>\n",
       "      <td>018b13fb-9943-713d-af34-408ecb7d36bd</td>\n",
       "      <td>/piramide.php</td>\n",
       "      <td>Blank line found at start of control structure</td>\n",
       "      <td>ERROR</td>\n",
       "      <td>6</td>\n",
       "      <td>40</td>\n",
       "    </tr>\n",
       "    <tr>\n",
       "      <th>1341112</th>\n",
       "      <td>018b13fc-d76d-7bad-b1c0-ee4877a154ee</td>\n",
       "      <td>/piramide.php</td>\n",
       "      <td>Blank line found at start of control structure</td>\n",
       "      <td>ERROR</td>\n",
       "      <td>6</td>\n",
       "      <td>40</td>\n",
       "    </tr>\n",
       "    <tr>\n",
       "      <th>1341113</th>\n",
       "      <td>018b13fd-4df2-7761-94b4-bd22977d2f65</td>\n",
       "      <td>/calculator.php</td>\n",
       "      <td>Header blocks must be separated by a single bl...</td>\n",
       "      <td>ERROR</td>\n",
       "      <td>1</td>\n",
       "      <td>1</td>\n",
       "    </tr>\n",
       "    <tr>\n",
       "      <th>1341114</th>\n",
       "      <td>018b13fd-4df2-7761-94b4-bd22977d2f65</td>\n",
       "      <td>/tempCodeRunnerFile.php</td>\n",
       "      <td>Header blocks must be separated by a single bl...</td>\n",
       "      <td>ERROR</td>\n",
       "      <td>1</td>\n",
       "      <td>1</td>\n",
       "    </tr>\n",
       "    <tr>\n",
       "      <th>1341115</th>\n",
       "      <td>018b13fd-50d5-72d4-a1bf-dc333d106f3b</td>\n",
       "      <td>/sign_up.html</td>\n",
       "      <td>No “p” element in scope but a “p” end tag seen.</td>\n",
       "      <td>error</td>\n",
       "      <td>26</td>\n",
       "      <td>74</td>\n",
       "    </tr>\n",
       "  </tbody>\n",
       "</table>\n",
       "<p>1249056 rows × 6 columns</p>\n",
       "</div>"
      ],
      "text/plain": [
       "                              blast_review_id                file_name  \\\n",
       "0        48994f15-1b24-11ea-ab6c-cec41367f4e7          /wisselgeld.php   \n",
       "1        902b5ef6-1b24-11ea-ab6c-cec41367f4e7                /tijd.php   \n",
       "2        a210c4d7-1b24-11ea-ab6c-cec41367f4e7          /wisselgeld.php   \n",
       "3        bc8d258f-1b2a-11ea-ab6c-cec41367f4e7                /cart.php   \n",
       "4        bc8d258f-1b2a-11ea-ab6c-cec41367f4e7                /cart.php   \n",
       "...                                       ...                      ...   \n",
       "1341110  018b13fb-9943-713d-af34-408ecb7d36bd            /piramide.php   \n",
       "1341112  018b13fc-d76d-7bad-b1c0-ee4877a154ee            /piramide.php   \n",
       "1341113  018b13fd-4df2-7761-94b4-bd22977d2f65          /calculator.php   \n",
       "1341114  018b13fd-4df2-7761-94b4-bd22977d2f65  /tempCodeRunnerFile.php   \n",
       "1341115  018b13fd-50d5-72d4-a1bf-dc333d106f3b            /sign_up.html   \n",
       "\n",
       "                                                   message   type  line  \\\n",
       "0        There must be a single space between the closi...  ERROR    13   \n",
       "1        There must be a single space between the closi...  ERROR     2   \n",
       "2        There must be a single space between the closi...  ERROR    14   \n",
       "3        Line indented incorrectly; expected 8 spaces, ...  ERROR    27   \n",
       "4        There must be a single space between the closi...  ERROR    27   \n",
       "...                                                    ...    ...   ...   \n",
       "1341110     Blank line found at start of control structure  ERROR     6   \n",
       "1341112     Blank line found at start of control structure  ERROR     6   \n",
       "1341113  Header blocks must be separated by a single bl...  ERROR     1   \n",
       "1341114  Header blocks must be separated by a single bl...  ERROR     1   \n",
       "1341115    No “p” element in scope but a “p” end tag seen.  error    26   \n",
       "\n",
       "         column  \n",
       "0            18  \n",
       "1            27  \n",
       "2            18  \n",
       "3             1  \n",
       "4            29  \n",
       "...         ...  \n",
       "1341110      40  \n",
       "1341112      40  \n",
       "1341113       1  \n",
       "1341114       1  \n",
       "1341115      74  \n",
       "\n",
       "[1249056 rows x 6 columns]"
      ]
     },
     "execution_count": 178,
     "metadata": {},
     "output_type": "execute_result"
    }
   ],
   "source": [
    "data_linting_result"
   ]
  },
  {
   "cell_type": "code",
   "execution_count": 179,
   "metadata": {},
   "outputs": [
    {
     "data": {
      "text/html": [
       "<div>\n",
       "<style scoped>\n",
       "    .dataframe tbody tr th:only-of-type {\n",
       "        vertical-align: middle;\n",
       "    }\n",
       "\n",
       "    .dataframe tbody tr th {\n",
       "        vertical-align: top;\n",
       "    }\n",
       "\n",
       "    .dataframe thead th {\n",
       "        text-align: right;\n",
       "    }\n",
       "</style>\n",
       "<table border=\"1\" class=\"dataframe\">\n",
       "  <thead>\n",
       "    <tr style=\"text-align: right;\">\n",
       "      <th></th>\n",
       "      <th>blast_review_id</th>\n",
       "      <th>test_id</th>\n",
       "      <th>human_error_message</th>\n",
       "      <th>test_language</th>\n",
       "    </tr>\n",
       "  </thead>\n",
       "  <tbody>\n",
       "    <tr>\n",
       "      <th>0</th>\n",
       "      <td>00001c9e-f8a5-4b92-8c94-b02f2209c968</td>\n",
       "      <td>156effcd-27f9-11ec-abc5-4213e7ee7fac</td>\n",
       "      <td>Je gebruikt echt `DELETE` in je SQL bestand</td>\n",
       "      <td>nl</td>\n",
       "    </tr>\n",
       "    <tr>\n",
       "      <th>1</th>\n",
       "      <td>00002312-66bf-4c25-94fe-d8b9def65fcd</td>\n",
       "      <td>8b2a55a4-2845-11ed-b4d0-4213e7ee7fac</td>\n",
       "      <td>NaN</td>\n",
       "      <td>nl</td>\n",
       "    </tr>\n",
       "    <tr>\n",
       "      <th>2</th>\n",
       "      <td>00002312-66bf-4c25-94fe-d8b9def65fcd</td>\n",
       "      <td>8b2a55a4-2845-11ed-b4d0-4213e7ee7fac</td>\n",
       "      <td>NaN</td>\n",
       "      <td>nl</td>\n",
       "    </tr>\n",
       "    <tr>\n",
       "      <th>3</th>\n",
       "      <td>00002312-66bf-4c25-94fe-d8b9def65fcd</td>\n",
       "      <td>8b2a55a4-2845-11ed-b4d0-4213e7ee7fac</td>\n",
       "      <td>NaN</td>\n",
       "      <td>nl</td>\n",
       "    </tr>\n",
       "    <tr>\n",
       "      <th>4</th>\n",
       "      <td>00002312-66bf-4c25-94fe-d8b9def65fcd</td>\n",
       "      <td>8b2a55a4-2845-11ed-b4d0-4213e7ee7fac</td>\n",
       "      <td>NaN</td>\n",
       "      <td>nl</td>\n",
       "    </tr>\n",
       "    <tr>\n",
       "      <th>...</th>\n",
       "      <td>...</td>\n",
       "      <td>...</td>\n",
       "      <td>...</td>\n",
       "      <td>...</td>\n",
       "    </tr>\n",
       "    <tr>\n",
       "      <th>2227019</th>\n",
       "      <td>ffffed58-5f58-4404-ada4-60492cf25614</td>\n",
       "      <td>3333dedb-afd7-11ea-a2fb-cec41367f4e7</td>\n",
       "      <td>Deze test controleert of jouw programma de str...</td>\n",
       "      <td>nl</td>\n",
       "    </tr>\n",
       "    <tr>\n",
       "      <th>2227020</th>\n",
       "      <td>ffffed58-5f58-4404-ada4-60492cf25614</td>\n",
       "      <td>3333dedb-afd7-11ea-a2fb-cec41367f4e7</td>\n",
       "      <td>NaN</td>\n",
       "      <td>nl</td>\n",
       "    </tr>\n",
       "    <tr>\n",
       "      <th>2227021</th>\n",
       "      <td>fffff2c9-1435-4a91-891f-047d83e194a9</td>\n",
       "      <td>0df303b2-ae4e-11eb-b248-4213e7ee7fac</td>\n",
       "      <td>NaN</td>\n",
       "      <td>nl</td>\n",
       "    </tr>\n",
       "    <tr>\n",
       "      <th>2227022</th>\n",
       "      <td>fffff2c9-1435-4a91-891f-047d83e194a9</td>\n",
       "      <td>601602ce-ae4d-11eb-b248-4213e7ee7fac</td>\n",
       "      <td>NaN</td>\n",
       "      <td>nl</td>\n",
       "    </tr>\n",
       "    <tr>\n",
       "      <th>2227023</th>\n",
       "      <td>fffff2c9-1435-4a91-891f-047d83e194a9</td>\n",
       "      <td>601602ce-ae4d-11eb-b248-4213e7ee7fac</td>\n",
       "      <td>NaN</td>\n",
       "      <td>nl</td>\n",
       "    </tr>\n",
       "  </tbody>\n",
       "</table>\n",
       "<p>2227024 rows × 4 columns</p>\n",
       "</div>"
      ],
      "text/plain": [
       "                              blast_review_id  \\\n",
       "0        00001c9e-f8a5-4b92-8c94-b02f2209c968   \n",
       "1        00002312-66bf-4c25-94fe-d8b9def65fcd   \n",
       "2        00002312-66bf-4c25-94fe-d8b9def65fcd   \n",
       "3        00002312-66bf-4c25-94fe-d8b9def65fcd   \n",
       "4        00002312-66bf-4c25-94fe-d8b9def65fcd   \n",
       "...                                       ...   \n",
       "2227019  ffffed58-5f58-4404-ada4-60492cf25614   \n",
       "2227020  ffffed58-5f58-4404-ada4-60492cf25614   \n",
       "2227021  fffff2c9-1435-4a91-891f-047d83e194a9   \n",
       "2227022  fffff2c9-1435-4a91-891f-047d83e194a9   \n",
       "2227023  fffff2c9-1435-4a91-891f-047d83e194a9   \n",
       "\n",
       "                                      test_id  \\\n",
       "0        156effcd-27f9-11ec-abc5-4213e7ee7fac   \n",
       "1        8b2a55a4-2845-11ed-b4d0-4213e7ee7fac   \n",
       "2        8b2a55a4-2845-11ed-b4d0-4213e7ee7fac   \n",
       "3        8b2a55a4-2845-11ed-b4d0-4213e7ee7fac   \n",
       "4        8b2a55a4-2845-11ed-b4d0-4213e7ee7fac   \n",
       "...                                       ...   \n",
       "2227019  3333dedb-afd7-11ea-a2fb-cec41367f4e7   \n",
       "2227020  3333dedb-afd7-11ea-a2fb-cec41367f4e7   \n",
       "2227021  0df303b2-ae4e-11eb-b248-4213e7ee7fac   \n",
       "2227022  601602ce-ae4d-11eb-b248-4213e7ee7fac   \n",
       "2227023  601602ce-ae4d-11eb-b248-4213e7ee7fac   \n",
       "\n",
       "                                       human_error_message test_language  \n",
       "0              Je gebruikt echt `DELETE` in je SQL bestand            nl  \n",
       "1                                                      NaN            nl  \n",
       "2                                                      NaN            nl  \n",
       "3                                                      NaN            nl  \n",
       "4                                                      NaN            nl  \n",
       "...                                                    ...           ...  \n",
       "2227019  Deze test controleert of jouw programma de str...            nl  \n",
       "2227020                                                NaN            nl  \n",
       "2227021                                                NaN            nl  \n",
       "2227022                                                NaN            nl  \n",
       "2227023                                                NaN            nl  \n",
       "\n",
       "[2227024 rows x 4 columns]"
      ]
     },
     "execution_count": 179,
     "metadata": {},
     "output_type": "execute_result"
    }
   ],
   "source": [
    "data_review_test_results"
   ]
  },
  {
   "cell_type": "markdown",
   "metadata": {},
   "source": [
    "Counting the tests"
   ]
  },
  {
   "cell_type": "code",
   "execution_count": 180,
   "metadata": {},
   "outputs": [
    {
     "data": {
      "text/plain": [
       "PHP_UNIT    410\n",
       "PYTHON       99\n",
       "NODE_JS      57\n",
       "C_SHARP       1\n",
       "Name: test_type, dtype: int64"
      ]
     },
     "execution_count": 180,
     "metadata": {},
     "output_type": "execute_result"
    }
   ],
   "source": [
    "unique_counts = data_tests[\"test_type\"].value_counts()\n",
    "unique_counts"
   ]
  },
  {
   "cell_type": "markdown",
   "metadata": {},
   "source": [
    "How many issues are there?"
   ]
  },
  {
   "cell_type": "code",
   "execution_count": 181,
   "metadata": {},
   "outputs": [
    {
     "data": {
      "image/png": "[encoded data removed]",
      "text/plain": [
       "<Figure size 800x800 with 1 Axes>"
      ]
     },
     "metadata": {},
     "output_type": "display_data"
    }
   ],
   "source": [
    "# Assuming you have already calculated unique_counts using value_counts()\n",
    "unique_counts = data_tests[\"test_type\"].value_counts()\n",
    "\n",
    "# Create a pie chart\n",
    "plt.figure(figsize=(8, 8))\n",
    "plt.pie(unique_counts, labels=unique_counts.index, autopct='%1.1f%%', startangle=140)\n",
    "plt.title(\"Distribution of Test Types\")\n",
    "plt.axis('equal')  # Equal aspect ratio ensures that the pie chart is circular.\n",
    "\n",
    "# Show the pie chart\n",
    "plt.show()\n"
   ]
  },
  {
   "cell_type": "markdown",
   "metadata": {},
   "source": [
    "This data is unclear, php is sorted into multiple languages. Because of linting issues, lets find out what the real issues are."
   ]
  },
  {
   "cell_type": "markdown",
   "metadata": {},
   "source": [
    "Finding the unique blast values"
   ]
  },
  {
   "cell_type": "code",
   "execution_count": 182,
   "metadata": {},
   "outputs": [
    {
     "data": {
      "text/plain": [
       "2227024"
      ]
     },
     "execution_count": 182,
     "metadata": {},
     "output_type": "execute_result"
    }
   ],
   "source": [
    "# Extracting language names from 'file_name' and counting occurrences\n",
    "language_counts_blast = data_review_test_results['blast_review_id'].count()\n",
    "\n",
    "# Displaying counts of each language\n",
    "language_counts_blast\n"
   ]
  },
  {
   "cell_type": "markdown",
   "metadata": {},
   "source": [
    "Kijk naar de structuur van de blast errors, ze zullen de zelfde structuur hebben als het gaat om linting of echt een opdracht"
   ]
  },
  {
   "cell_type": "markdown",
   "metadata": {},
   "source": [
    "Visualize what test types give the most issues(blast and linter)"
   ]
  },
  {
   "cell_type": "markdown",
   "metadata": {},
   "source": [
    "Finding the unique linting values"
   ]
  },
  {
   "cell_type": "code",
   "execution_count": 183,
   "metadata": {},
   "outputs": [
    {
     "name": "stdout",
     "output_type": "stream",
     "text": [
      "php     486192\n",
      "html    326956\n",
      "js      251930\n",
      "css      98299\n",
      "sql      78774\n",
      "py        3669\n",
      "htm       3231\n",
      "inc          5\n",
      "Name: 0, dtype: int64\n"
     ]
    }
   ],
   "source": [
    "# Extracting language names from 'file_name' and counting occurrences\n",
    "language_counts_linting = data_linting_result['file_name'].str.extract(r'\\.(\\w+)$').loc[:, 0].value_counts()\n",
    "\n",
    "# Displaying counts of each language\n",
    "print(language_counts_linting)\n"
   ]
  },
  {
   "cell_type": "markdown",
   "metadata": {},
   "source": [
    "Making the visual more specific by sepporate the linting and blast issues, here are the linting issues;"
   ]
  },
  {
   "cell_type": "code",
   "execution_count": 184,
   "metadata": {},
   "outputs": [
    {
     "data": {
      "image/png": "[encoded data removed]",
      "text/plain": [
       "<Figure size 1000x600 with 1 Axes>"
      ]
     },
     "metadata": {},
     "output_type": "display_data"
    }
   ],
   "source": [
    "import matplotlib.pyplot as plt\n",
    "import pandas as pd\n",
    "\n",
    "# Assuming you already extracted language names and counts using the regex approach\n",
    "language_counts = data_linting_result['file_name'].str.extract(r'\\.(\\w+)$').loc[:, 0].value_counts()\n",
    "\n",
    "# Filter the dataset for different language types\n",
    "languages_to_plot = ['php', 'html', 'sql', 'js', 'css', 'py']\n",
    "filtered_counts = language_counts[language_counts.index.isin(languages_to_plot)]\n",
    "\n",
    "# Plot the counts\n",
    "plt.figure(figsize=(10, 6))\n",
    "plt.bar(filtered_counts.index, filtered_counts, color='paleturquoise', edgecolor='black', linewidth=0.5)\n",
    "plt.xlabel('Programming Language')\n",
    "plt.ylabel('Count')\n",
    "plt.title('Distribution of Programming Languages in Linting Errors')\n",
    "plt.show()\n"
   ]
  },
  {
   "cell_type": "code",
   "execution_count": 185,
   "metadata": {},
   "outputs": [
    {
     "ename": "KeyError",
     "evalue": "\"['test_id'] not in index\"",
     "output_type": "error",
     "traceback": [
      "\u001b[1;31m---------------------------------------------------------------------------\u001b[0m",
      "\u001b[1;31mKeyError\u001b[0m                                  Traceback (most recent call last)",
      "Cell \u001b[1;32mIn[185], line 1\u001b[0m\n\u001b[1;32m----> 1\u001b[0m file_type_with_blast_review \u001b[38;5;241m=\u001b[39m \u001b[43mdata_linting_result\u001b[49m\u001b[43m[\u001b[49m\u001b[43m[\u001b[49m\u001b[38;5;124;43m'\u001b[39;49m\u001b[38;5;124;43mblast_review_id\u001b[39;49m\u001b[38;5;124;43m'\u001b[39;49m\u001b[43m,\u001b[49m\u001b[43m \u001b[49m\u001b[38;5;124;43m'\u001b[39;49m\u001b[38;5;124;43mtest_id\u001b[39;49m\u001b[38;5;124;43m'\u001b[39;49m\u001b[43m]\u001b[49m\u001b[43m]\u001b[49m\u001b[38;5;241m.\u001b[39mset_index(\u001b[38;5;124m'\u001b[39m\u001b[38;5;124mtest_id\u001b[39m\u001b[38;5;124m'\u001b[39m)\n\u001b[0;32m      2\u001b[0m joined_data_blast_linting \u001b[38;5;241m=\u001b[39m data_review_test_results\u001b[38;5;241m.\u001b[39mset_index(\u001b[38;5;124m'\u001b[39m\u001b[38;5;124mblast_review_id\u001b[39m\u001b[38;5;124m'\u001b[39m)\u001b[38;5;241m.\u001b[39mjoin(file_type_with_blast_review)\n",
      "File \u001b[1;32m~\\AppData\\Local\\Packages\\PythonSoftwareFoundation.Python.3.10_qbz5n2kfra8p0\\LocalCache\\local-packages\\Python310\\site-packages\\pandas\\core\\frame.py:3813\u001b[0m, in \u001b[0;36mDataFrame.__getitem__\u001b[1;34m(self, key)\u001b[0m\n\u001b[0;32m   3811\u001b[0m     \u001b[38;5;28;01mif\u001b[39;00m is_iterator(key):\n\u001b[0;32m   3812\u001b[0m         key \u001b[38;5;241m=\u001b[39m \u001b[38;5;28mlist\u001b[39m(key)\n\u001b[1;32m-> 3813\u001b[0m     indexer \u001b[38;5;241m=\u001b[39m \u001b[38;5;28;43mself\u001b[39;49m\u001b[38;5;241;43m.\u001b[39;49m\u001b[43mcolumns\u001b[49m\u001b[38;5;241;43m.\u001b[39;49m\u001b[43m_get_indexer_strict\u001b[49m\u001b[43m(\u001b[49m\u001b[43mkey\u001b[49m\u001b[43m,\u001b[49m\u001b[43m \u001b[49m\u001b[38;5;124;43m\"\u001b[39;49m\u001b[38;5;124;43mcolumns\u001b[39;49m\u001b[38;5;124;43m\"\u001b[39;49m\u001b[43m)\u001b[49m[\u001b[38;5;241m1\u001b[39m]\n\u001b[0;32m   3815\u001b[0m \u001b[38;5;66;03m# take() does not accept boolean indexers\u001b[39;00m\n\u001b[0;32m   3816\u001b[0m \u001b[38;5;28;01mif\u001b[39;00m \u001b[38;5;28mgetattr\u001b[39m(indexer, \u001b[38;5;124m\"\u001b[39m\u001b[38;5;124mdtype\u001b[39m\u001b[38;5;124m\"\u001b[39m, \u001b[38;5;28;01mNone\u001b[39;00m) \u001b[38;5;241m==\u001b[39m \u001b[38;5;28mbool\u001b[39m:\n",
      "File \u001b[1;32m~\\AppData\\Local\\Packages\\PythonSoftwareFoundation.Python.3.10_qbz5n2kfra8p0\\LocalCache\\local-packages\\Python310\\site-packages\\pandas\\core\\indexes\\base.py:6070\u001b[0m, in \u001b[0;36mIndex._get_indexer_strict\u001b[1;34m(self, key, axis_name)\u001b[0m\n\u001b[0;32m   6067\u001b[0m \u001b[38;5;28;01melse\u001b[39;00m:\n\u001b[0;32m   6068\u001b[0m     keyarr, indexer, new_indexer \u001b[38;5;241m=\u001b[39m \u001b[38;5;28mself\u001b[39m\u001b[38;5;241m.\u001b[39m_reindex_non_unique(keyarr)\n\u001b[1;32m-> 6070\u001b[0m \u001b[38;5;28;43mself\u001b[39;49m\u001b[38;5;241;43m.\u001b[39;49m\u001b[43m_raise_if_missing\u001b[49m\u001b[43m(\u001b[49m\u001b[43mkeyarr\u001b[49m\u001b[43m,\u001b[49m\u001b[43m \u001b[49m\u001b[43mindexer\u001b[49m\u001b[43m,\u001b[49m\u001b[43m \u001b[49m\u001b[43maxis_name\u001b[49m\u001b[43m)\u001b[49m\n\u001b[0;32m   6072\u001b[0m keyarr \u001b[38;5;241m=\u001b[39m \u001b[38;5;28mself\u001b[39m\u001b[38;5;241m.\u001b[39mtake(indexer)\n\u001b[0;32m   6073\u001b[0m \u001b[38;5;28;01mif\u001b[39;00m \u001b[38;5;28misinstance\u001b[39m(key, Index):\n\u001b[0;32m   6074\u001b[0m     \u001b[38;5;66;03m# GH 42790 - Preserve name from an Index\u001b[39;00m\n",
      "File \u001b[1;32m~\\AppData\\Local\\Packages\\PythonSoftwareFoundation.Python.3.10_qbz5n2kfra8p0\\LocalCache\\local-packages\\Python310\\site-packages\\pandas\\core\\indexes\\base.py:6133\u001b[0m, in \u001b[0;36mIndex._raise_if_missing\u001b[1;34m(self, key, indexer, axis_name)\u001b[0m\n\u001b[0;32m   6130\u001b[0m     \u001b[38;5;28;01mraise\u001b[39;00m \u001b[38;5;167;01mKeyError\u001b[39;00m(\u001b[38;5;124mf\u001b[39m\u001b[38;5;124m\"\u001b[39m\u001b[38;5;124mNone of [\u001b[39m\u001b[38;5;132;01m{\u001b[39;00mkey\u001b[38;5;132;01m}\u001b[39;00m\u001b[38;5;124m] are in the [\u001b[39m\u001b[38;5;132;01m{\u001b[39;00maxis_name\u001b[38;5;132;01m}\u001b[39;00m\u001b[38;5;124m]\u001b[39m\u001b[38;5;124m\"\u001b[39m)\n\u001b[0;32m   6132\u001b[0m not_found \u001b[38;5;241m=\u001b[39m \u001b[38;5;28mlist\u001b[39m(ensure_index(key)[missing_mask\u001b[38;5;241m.\u001b[39mnonzero()[\u001b[38;5;241m0\u001b[39m]]\u001b[38;5;241m.\u001b[39munique())\n\u001b[1;32m-> 6133\u001b[0m \u001b[38;5;28;01mraise\u001b[39;00m \u001b[38;5;167;01mKeyError\u001b[39;00m(\u001b[38;5;124mf\u001b[39m\u001b[38;5;124m\"\u001b[39m\u001b[38;5;132;01m{\u001b[39;00mnot_found\u001b[38;5;132;01m}\u001b[39;00m\u001b[38;5;124m not in index\u001b[39m\u001b[38;5;124m\"\u001b[39m)\n",
      "\u001b[1;31mKeyError\u001b[0m: \"['test_id'] not in index\""
     ]
    }
   ],
   "source": [
    "file_type_with_blast_review = data_linting_result[['blast_review_id', 'test_id']].set_index('test_id')\n",
    "joined_data_blast_linting = data_review_test_results.set_index('blast_review_id').join(file_type_with_blast_review)"
   ]
  },
  {
   "cell_type": "code",
   "execution_count": null,
   "metadata": {},
   "outputs": [
    {
     "data": {
      "text/html": [
       "<div>\n",
       "<style scoped>\n",
       "    .dataframe tbody tr th:only-of-type {\n",
       "        vertical-align: middle;\n",
       "    }\n",
       "\n",
       "    .dataframe tbody tr th {\n",
       "        vertical-align: top;\n",
       "    }\n",
       "\n",
       "    .dataframe thead th {\n",
       "        text-align: right;\n",
       "    }\n",
       "</style>\n",
       "<table border=\"1\" class=\"dataframe\">\n",
       "  <thead>\n",
       "    <tr style=\"text-align: right;\">\n",
       "      <th></th>\n",
       "      <th>file_name</th>\n",
       "    </tr>\n",
       "    <tr>\n",
       "      <th>blast_review_id</th>\n",
       "      <th></th>\n",
       "    </tr>\n",
       "  </thead>\n",
       "  <tbody>\n",
       "    <tr>\n",
       "      <th>48994f15-1b24-11ea-ab6c-cec41367f4e7</th>\n",
       "      <td>/wisselgeld.php</td>\n",
       "    </tr>\n",
       "    <tr>\n",
       "      <th>902b5ef6-1b24-11ea-ab6c-cec41367f4e7</th>\n",
       "      <td>/tijd.php</td>\n",
       "    </tr>\n",
       "    <tr>\n",
       "      <th>a210c4d7-1b24-11ea-ab6c-cec41367f4e7</th>\n",
       "      <td>/wisselgeld.php</td>\n",
       "    </tr>\n",
       "    <tr>\n",
       "      <th>bc8d258f-1b2a-11ea-ab6c-cec41367f4e7</th>\n",
       "      <td>/cart.php</td>\n",
       "    </tr>\n",
       "    <tr>\n",
       "      <th>bc8d258f-1b2a-11ea-ab6c-cec41367f4e7</th>\n",
       "      <td>/cart.php</td>\n",
       "    </tr>\n",
       "    <tr>\n",
       "      <th>...</th>\n",
       "      <td>...</td>\n",
       "    </tr>\n",
       "    <tr>\n",
       "      <th>018b13fb-9943-713d-af34-408ecb7d36bd</th>\n",
       "      <td>/piramide.php</td>\n",
       "    </tr>\n",
       "    <tr>\n",
       "      <th>018b13fc-d76d-7bad-b1c0-ee4877a154ee</th>\n",
       "      <td>/piramide.php</td>\n",
       "    </tr>\n",
       "    <tr>\n",
       "      <th>018b13fd-4df2-7761-94b4-bd22977d2f65</th>\n",
       "      <td>/calculator.php</td>\n",
       "    </tr>\n",
       "    <tr>\n",
       "      <th>018b13fd-4df2-7761-94b4-bd22977d2f65</th>\n",
       "      <td>/tempCodeRunnerFile.php</td>\n",
       "    </tr>\n",
       "    <tr>\n",
       "      <th>018b13fd-50d5-72d4-a1bf-dc333d106f3b</th>\n",
       "      <td>/sign_up.html</td>\n",
       "    </tr>\n",
       "  </tbody>\n",
       "</table>\n",
       "<p>1249056 rows × 1 columns</p>\n",
       "</div>"
      ],
      "text/plain": [
       "                                                    file_name\n",
       "blast_review_id                                              \n",
       "48994f15-1b24-11ea-ab6c-cec41367f4e7          /wisselgeld.php\n",
       "902b5ef6-1b24-11ea-ab6c-cec41367f4e7                /tijd.php\n",
       "a210c4d7-1b24-11ea-ab6c-cec41367f4e7          /wisselgeld.php\n",
       "bc8d258f-1b2a-11ea-ab6c-cec41367f4e7                /cart.php\n",
       "bc8d258f-1b2a-11ea-ab6c-cec41367f4e7                /cart.php\n",
       "...                                                       ...\n",
       "018b13fb-9943-713d-af34-408ecb7d36bd            /piramide.php\n",
       "018b13fc-d76d-7bad-b1c0-ee4877a154ee            /piramide.php\n",
       "018b13fd-4df2-7761-94b4-bd22977d2f65          /calculator.php\n",
       "018b13fd-4df2-7761-94b4-bd22977d2f65  /tempCodeRunnerFile.php\n",
       "018b13fd-50d5-72d4-a1bf-dc333d106f3b            /sign_up.html\n",
       "\n",
       "[1249056 rows x 1 columns]"
      ]
     },
     "execution_count": 157,
     "metadata": {},
     "output_type": "execute_result"
    }
   ],
   "source": [
    "file_type_with_blast_review"
   ]
  },
  {
   "cell_type": "code",
   "execution_count": null,
   "metadata": {},
   "outputs": [
    {
     "data": {
      "text/plain": [
       "Series([], Name: 0, dtype: object)"
      ]
     },
     "execution_count": 173,
     "metadata": {},
     "output_type": "execute_result"
    }
   ],
   "source": [
    "joined_data_blast_linting_language = joined_data_blast_linting['test_id'].str.extract(r'\\.(\\w+)$').loc[:, 0].dropna()\n",
    "joined_data_blast_linting_language"
   ]
  },
  {
   "cell_type": "markdown",
   "metadata": {},
   "source": [
    "Making the visual more specific by sepporate the linting and blast issues, here are the blast issues;"
   ]
  },
  {
   "cell_type": "code",
   "execution_count": 186,
   "metadata": {},
   "outputs": [
    {
     "ename": "KeyError",
     "evalue": "'test_type'",
     "output_type": "error",
     "traceback": [
      "\u001b[1;31m---------------------------------------------------------------------------\u001b[0m",
      "\u001b[1;31mKeyError\u001b[0m                                  Traceback (most recent call last)",
      "File \u001b[1;32m~\\AppData\\Local\\Packages\\PythonSoftwareFoundation.Python.3.10_qbz5n2kfra8p0\\LocalCache\\local-packages\\Python310\\site-packages\\pandas\\core\\indexes\\base.py:3802\u001b[0m, in \u001b[0;36mIndex.get_loc\u001b[1;34m(self, key, method, tolerance)\u001b[0m\n\u001b[0;32m   3801\u001b[0m \u001b[38;5;28;01mtry\u001b[39;00m:\n\u001b[1;32m-> 3802\u001b[0m     \u001b[38;5;28;01mreturn\u001b[39;00m \u001b[38;5;28;43mself\u001b[39;49m\u001b[38;5;241;43m.\u001b[39;49m\u001b[43m_engine\u001b[49m\u001b[38;5;241;43m.\u001b[39;49m\u001b[43mget_loc\u001b[49m\u001b[43m(\u001b[49m\u001b[43mcasted_key\u001b[49m\u001b[43m)\u001b[49m\n\u001b[0;32m   3803\u001b[0m \u001b[38;5;28;01mexcept\u001b[39;00m \u001b[38;5;167;01mKeyError\u001b[39;00m \u001b[38;5;28;01mas\u001b[39;00m err:\n",
      "File \u001b[1;32m~\\AppData\\Local\\Packages\\PythonSoftwareFoundation.Python.3.10_qbz5n2kfra8p0\\LocalCache\\local-packages\\Python310\\site-packages\\pandas\\_libs\\index.pyx:138\u001b[0m, in \u001b[0;36mpandas._libs.index.IndexEngine.get_loc\u001b[1;34m()\u001b[0m\n",
      "File \u001b[1;32m~\\AppData\\Local\\Packages\\PythonSoftwareFoundation.Python.3.10_qbz5n2kfra8p0\\LocalCache\\local-packages\\Python310\\site-packages\\pandas\\_libs\\index.pyx:165\u001b[0m, in \u001b[0;36mpandas._libs.index.IndexEngine.get_loc\u001b[1;34m()\u001b[0m\n",
      "File \u001b[1;32mpandas\\_libs\\hashtable_class_helper.pxi:5745\u001b[0m, in \u001b[0;36mpandas._libs.hashtable.PyObjectHashTable.get_item\u001b[1;34m()\u001b[0m\n",
      "File \u001b[1;32mpandas\\_libs\\hashtable_class_helper.pxi:5753\u001b[0m, in \u001b[0;36mpandas._libs.hashtable.PyObjectHashTable.get_item\u001b[1;34m()\u001b[0m\n",
      "\u001b[1;31mKeyError\u001b[0m: 'test_type'",
      "\nThe above exception was the direct cause of the following exception:\n",
      "\u001b[1;31mKeyError\u001b[0m                                  Traceback (most recent call last)",
      "Cell \u001b[1;32mIn[186], line 6\u001b[0m\n\u001b[0;32m      2\u001b[0m \u001b[38;5;28;01mimport\u001b[39;00m \u001b[38;5;21;01mpandas\u001b[39;00m \u001b[38;5;28;01mas\u001b[39;00m \u001b[38;5;21;01mpd\u001b[39;00m\n\u001b[0;32m      4\u001b[0m \u001b[38;5;66;03m# Assuming joined_data_blast_linting_language is a Series containing the programming languages\u001b[39;00m\n\u001b[0;32m      5\u001b[0m \u001b[38;5;66;03m# and you have already dropped NaN values\u001b[39;00m\n\u001b[1;32m----> 6\u001b[0m joined_data_blast_linting_language \u001b[38;5;241m=\u001b[39m \u001b[43mjoined_data_blast_linting\u001b[49m\u001b[43m[\u001b[49m\u001b[38;5;124;43m'\u001b[39;49m\u001b[38;5;124;43mtest_type\u001b[39;49m\u001b[38;5;124;43m'\u001b[39;49m\u001b[43m]\u001b[49m\u001b[38;5;241m.\u001b[39mdropna()\n\u001b[0;32m      8\u001b[0m \u001b[38;5;66;03m# Count the occurrences of each programming language\u001b[39;00m\n\u001b[0;32m      9\u001b[0m language_counts \u001b[38;5;241m=\u001b[39m joined_data_blast_linting_language\u001b[38;5;241m.\u001b[39mvalue_counts()\n",
      "File \u001b[1;32m~\\AppData\\Local\\Packages\\PythonSoftwareFoundation.Python.3.10_qbz5n2kfra8p0\\LocalCache\\local-packages\\Python310\\site-packages\\pandas\\core\\frame.py:3807\u001b[0m, in \u001b[0;36mDataFrame.__getitem__\u001b[1;34m(self, key)\u001b[0m\n\u001b[0;32m   3805\u001b[0m \u001b[38;5;28;01mif\u001b[39;00m \u001b[38;5;28mself\u001b[39m\u001b[38;5;241m.\u001b[39mcolumns\u001b[38;5;241m.\u001b[39mnlevels \u001b[38;5;241m>\u001b[39m \u001b[38;5;241m1\u001b[39m:\n\u001b[0;32m   3806\u001b[0m     \u001b[38;5;28;01mreturn\u001b[39;00m \u001b[38;5;28mself\u001b[39m\u001b[38;5;241m.\u001b[39m_getitem_multilevel(key)\n\u001b[1;32m-> 3807\u001b[0m indexer \u001b[38;5;241m=\u001b[39m \u001b[38;5;28;43mself\u001b[39;49m\u001b[38;5;241;43m.\u001b[39;49m\u001b[43mcolumns\u001b[49m\u001b[38;5;241;43m.\u001b[39;49m\u001b[43mget_loc\u001b[49m\u001b[43m(\u001b[49m\u001b[43mkey\u001b[49m\u001b[43m)\u001b[49m\n\u001b[0;32m   3808\u001b[0m \u001b[38;5;28;01mif\u001b[39;00m is_integer(indexer):\n\u001b[0;32m   3809\u001b[0m     indexer \u001b[38;5;241m=\u001b[39m [indexer]\n",
      "File \u001b[1;32m~\\AppData\\Local\\Packages\\PythonSoftwareFoundation.Python.3.10_qbz5n2kfra8p0\\LocalCache\\local-packages\\Python310\\site-packages\\pandas\\core\\indexes\\base.py:3804\u001b[0m, in \u001b[0;36mIndex.get_loc\u001b[1;34m(self, key, method, tolerance)\u001b[0m\n\u001b[0;32m   3802\u001b[0m     \u001b[38;5;28;01mreturn\u001b[39;00m \u001b[38;5;28mself\u001b[39m\u001b[38;5;241m.\u001b[39m_engine\u001b[38;5;241m.\u001b[39mget_loc(casted_key)\n\u001b[0;32m   3803\u001b[0m \u001b[38;5;28;01mexcept\u001b[39;00m \u001b[38;5;167;01mKeyError\u001b[39;00m \u001b[38;5;28;01mas\u001b[39;00m err:\n\u001b[1;32m-> 3804\u001b[0m     \u001b[38;5;28;01mraise\u001b[39;00m \u001b[38;5;167;01mKeyError\u001b[39;00m(key) \u001b[38;5;28;01mfrom\u001b[39;00m \u001b[38;5;21;01merr\u001b[39;00m\n\u001b[0;32m   3805\u001b[0m \u001b[38;5;28;01mexcept\u001b[39;00m \u001b[38;5;167;01mTypeError\u001b[39;00m:\n\u001b[0;32m   3806\u001b[0m     \u001b[38;5;66;03m# If we have a listlike key, _check_indexing_error will raise\u001b[39;00m\n\u001b[0;32m   3807\u001b[0m     \u001b[38;5;66;03m#  InvalidIndexError. Otherwise we fall through and re-raise\u001b[39;00m\n\u001b[0;32m   3808\u001b[0m     \u001b[38;5;66;03m#  the TypeError.\u001b[39;00m\n\u001b[0;32m   3809\u001b[0m     \u001b[38;5;28mself\u001b[39m\u001b[38;5;241m.\u001b[39m_check_indexing_error(key)\n",
      "\u001b[1;31mKeyError\u001b[0m: 'test_type'"
     ]
    }
   ],
   "source": [
    "import matplotlib.pyplot as plt\n",
    "import pandas as pd\n",
    "\n",
    "# Assuming joined_data_blast_linting_language is a Series containing the programming languages\n",
    "# and you have already dropped NaN values\n",
    "joined_data_blast_linting_language = joined_data_blast_linting['test_type'].dropna()\n",
    "\n",
    "# Count the occurrences of each programming language\n",
    "language_counts = joined_data_blast_linting_language.value_counts()\n",
    "\n",
    "# Filter the dataset for specific language types\n",
    "languages_to_plot = ['php', 'html', 'sql', 'js', 'css', 'py']\n",
    "filtered_counts = language_counts[language_counts.index.isin(languages_to_plot)]\n",
    "\n",
    "# Plot the counts\n",
    "plt.figure(figsize=(10, 6))\n",
    "plt.bar(filtered_counts.index, filtered_counts, color='paleturquoise', edgecolor='black', linewidth=0.5)\n",
    "plt.xlabel('Programming Language')\n",
    "plt.ylabel('Count')\n",
    "plt.title('Distribution of Programming Languages in Blast Errors')\n",
    "plt.ticklabel_format(style='plain', axis='y')\n",
    "plt.show()\n"
   ]
  }
 ],
 "metadata": {
  "kernelspec": {
   "display_name": "venv",
   "language": "python",
   "name": "python3"
  },
  "language_info": {
   "codemirror_mode": {
    "name": "ipython",
    "version": 3
   },
   "file_extension": ".py",
   "mimetype": "text/x-python",
   "name": "python",
   "nbconvert_exporter": "python",
   "pygments_lexer": "ipython3",
   "version": "3.10.11"
  }
 },
 "nbformat": 4,
 "nbformat_minor": 2
}

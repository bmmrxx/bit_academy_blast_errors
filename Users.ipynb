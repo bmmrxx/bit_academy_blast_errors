{
 "cells": [
  {
   "cell_type": "markdown",
   "metadata": {},
   "source": [
    "#### Importing our libraries and cleaned data"
   ]
  },
  {
   "cell_type": "code",
   "execution_count": 86,
   "metadata": {},
   "outputs": [],
   "source": [
    "import pandas as pd\n",
    "from cleaning import read_data, clean_linting_results, clean_review_test_results, clean_data_reviewss, clean_data_exercises, clean_data_code_blast_tests\n",
    "\n",
    "read_linting_results, read_review_test_results, read_reviews, data_tests, read_code_blast_tests, read_exercises, data_implementation_exercise = read_data()\n",
    "\n",
    "data_linting_result = clean_linting_results(read_linting_results)\n",
    "data_review_test_results = clean_review_test_results(read_review_test_results)\n",
    "data_reviews = clean_data_reviewss(read_reviews)\n",
    "data_exercises = clean_data_exercises(read_exercises)\n",
    "data_code_blast_tests = clean_data_code_blast_tests(read_code_blast_tests)\n"
   ]
  },
  {
   "cell_type": "markdown",
   "metadata": {},
   "source": [
    "#### What are the differences of accepted and declined exercises between the dutch and english Jarvis users?\n",
    "\n",
    "In the code below we gather data from both English and Dutch Jarvis users to create a clear view in differences between accepted and declined exercises."
   ]
  },
  {
   "cell_type": "code",
   "execution_count": 87,
   "metadata": {},
   "outputs": [
    {
     "name": "stdout",
     "output_type": "stream",
     "text": [
      "Amount of ACCEPTED and DECLINED for English user data:\n",
      "state\n",
      "DECLINED    313\n",
      "ACCEPTED    187\n",
      "Name: count, dtype: int64\n",
      "\n",
      "Amount of ACCEPTED and DECLINED for Dutch user data:\n",
      "state\n",
      "DECLINED    273\n",
      "ACCEPTED    227\n",
      "Name: count, dtype: int64\n"
     ]
    }
   ],
   "source": [
    "# We merge data_review_test_results and data_reviews based on 'blast_review_id' and 'id'\n",
    "merged_data = pd.merge(data_review_test_results, data_reviews, left_on='blast_review_id', right_on='id')\n",
    "\n",
    "# We filter the languages\n",
    "filtered_data = merged_data[merged_data['test_language'].isin(['nl', 'en'])]\n",
    "\n",
    "# Because of the differences in amout of data for the two languages, we filter only the top 500\n",
    "english_data = filtered_data[filtered_data['test_language'] == 'en'].head(500)\n",
    "dutch_data = filtered_data[filtered_data['test_language'] == 'nl'].head(500)\n",
    "\n",
    "# We count the accpeted and declined values for English users\n",
    "english_counts = english_data['state'].value_counts()\n",
    "\n",
    "# We count the accpeted and declined values for Dutch users\n",
    "dutch_counts = dutch_data['state'].value_counts()\n",
    "\n",
    "# We print the results\n",
    "print(\"Amount of ACCEPTED and DECLINED for English user data:\")\n",
    "print(english_counts)\n",
    "\n",
    "print(\"\\nAmount of ACCEPTED and DECLINED for Dutch user data:\")\n",
    "print(dutch_counts)\n"
   ]
  },
  {
   "cell_type": "markdown",
   "metadata": {},
   "source": [
    "Based on the top 500 Dutch and top 500 English users we see that English Jarvis users get declined a lot more than the Dutch users.\n",
    "One of the reasons of this could be that the English version of Jarvis is not as clear for students as the Dutch version. "
   ]
  },
  {
   "cell_type": "markdown",
   "metadata": {},
   "source": [
    "#### Is this data different for each code language?\n",
    "\n",
    "With these precentages we get a clear view of the differences between the english and dutch Jarvis users about the exercises that get declined and accepted for each code language.\n"
   ]
  },
  {
   "cell_type": "code",
   "execution_count": 88,
   "metadata": {},
   "outputs": [
    {
     "name": "stdout",
     "output_type": "stream",
     "text": [
      "\n",
      "Percentage of ACCEPTED and DECLINED for Dutch users per code language:\n",
      "              ACCEPTED DECLINED\n",
      "code_language                  \n",
      "css              45.4%    54.6%\n",
      "htm              46.7%    53.3%\n",
      "html             44.9%    55.1%\n",
      "inc              40.0%    60.0%\n",
      "js               45.0%    55.0%\n",
      "php              45.3%    54.7%\n",
      "py               46.4%    53.6%\n",
      "sql              45.4%    54.6%\n",
      "\n",
      "Percentage of ACCEPTED and DECLINED for English users per code language:\n",
      "              ACCEPTED DECLINED\n",
      "code_language                  \n",
      "css              22.2%    77.8%\n",
      "html             39.6%    60.4%\n",
      "js               37.6%    62.4%\n",
      "php              40.2%    59.8%\n",
      "sql              30.6%    69.4%\n"
     ]
    }
   ],
   "source": [
    "# We reset the index of data_linting_result\n",
    "data_linting_result_reset = data_linting_result.reset_index()\n",
    "\n",
    "# We find the code language using regex\n",
    "filtered_data = filtered_data.reset_index(drop=True)\n",
    "filtered_data['code_language'] = data_linting_result_reset['file_name'].str.extract(r'\\.(\\w+)$')\n",
    "\n",
    "# We count the number of ACCEPTED and DECLINED for data per code language\n",
    "counts_by_language = filtered_data.groupby(['test_language', 'code_language', 'state']).size().unstack(fill_value=0)\n",
    "\n",
    "# We calculate the percentage of ACCEPTED and DECLINED per code language for Dutch users\n",
    "dutch_percentage_by_language = (\n",
    "    counts_by_language.loc['nl'].div(counts_by_language.loc['nl'].sum(axis=1), axis=0) * 100\n",
    ")\n",
    "\n",
    "# We calculate the percentage of ACCEPTED and DECLINED per code language for English users\n",
    "english_percentage_by_language = (\n",
    "    counts_by_language.loc['en'].div(counts_by_language.loc['en'].sum(axis=1), axis=0) * 100\n",
    ")\n",
    "\n",
    "# Set the number of decimals\n",
    "decimals = 1\n",
    "\n",
    "# Format for printing the results\n",
    "format_str = \"{:.\" + str(decimals) + \"f}%\"\n",
    "\n",
    "# Print the results\n",
    "print(\"\\nPercentage of ACCEPTED and DECLINED for Dutch users per code language:\")\n",
    "print(dutch_percentage_by_language.map(lambda x: format_str.format(x)).rename_axis(columns={'state': ''}))\n",
    "\n",
    "print(\"\\nPercentage of ACCEPTED and DECLINED for English users per code language:\")\n",
    "print(english_percentage_by_language.map(lambda x: format_str.format(x)).rename_axis(columns={'state': ''}))\n"
   ]
  },
  {
   "cell_type": "markdown",
   "metadata": {},
   "source": [
    "We see that there are bigger gaps between the percentages per code language from the english users. One of the reasons this could be the case is because there are way less english users than dutch users. "
   ]
  }
 ],
 "metadata": {
  "kernelspec": {
   "display_name": "venv",
   "language": "python",
   "name": "python3"
  },
  "language_info": {
   "codemirror_mode": {
    "name": "ipython",
    "version": 3
   },
   "file_extension": ".py",
   "mimetype": "text/x-python",
   "name": "python",
   "nbconvert_exporter": "python",
   "pygments_lexer": "ipython3",
   "version": "3.11.7"
  }
 },
 "nbformat": 4,
 "nbformat_minor": 2
}

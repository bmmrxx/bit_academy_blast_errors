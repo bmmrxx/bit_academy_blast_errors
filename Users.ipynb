{
 "cells": [
  {
   "cell_type": "code",
   "execution_count": 2,
   "metadata": {},
   "outputs": [],
   "source": [
    "import pandas as pd\n",
    "from cleaning import read_data, clean_linting_results, clean_review_test_results, clean_data_reviewss, clean_data_exercises, clean_data_code_blast_tests\n",
    "\n",
    "read_linting_results, read_review_test_results, read_reviews, data_tests, read_code_blast_tests, read_exercises, data_implementation_exercise = read_data()\n",
    "\n",
    "data_linting_result = clean_linting_results(read_linting_results)\n",
    "data_review_test_results = clean_review_test_results(read_review_test_results)\n",
    "data_reviews = clean_data_reviewss(read_reviews)\n",
    "data_exercises = clean_data_exercises(read_exercises)\n",
    "data_code_blast_tests = clean_data_code_blast_tests(read_code_blast_tests)\n"
   ]
  },
  {
   "cell_type": "code",
   "execution_count": 3,
   "metadata": {},
   "outputs": [
    {
     "name": "stdout",
     "output_type": "stream",
     "text": [
      "Aantal ACCEPTED en DECLINED voor Engelse data:\n",
      "state\n",
      "DECLINED    313\n",
      "ACCEPTED    187\n",
      "Name: count, dtype: int64\n",
      "\n",
      "Aantal ACCEPTED en DECLINED voor Nederlandse data:\n",
      "state\n",
      "DECLINED    273\n",
      "ACCEPTED    227\n",
      "Name: count, dtype: int64\n"
     ]
    }
   ],
   "source": [
    "# Samenvoegen van de datasets op basis van 'blast_review_id' en 'id'\n",
    "merged_data = pd.merge(data_review_test_results, data_reviews, left_on='blast_review_id', right_on='id')\n",
    "\n",
    "# Filteren op de gewenste taal ('test_language')\n",
    "filtered_data = merged_data[merged_data['test_language'].isin(['nl', 'en'])]\n",
    "\n",
    "# Beperk de resultaten tot 500 Engelse en 500 Nederlandse\n",
    "english_data = filtered_data[filtered_data['test_language'] == 'en'].head(500)\n",
    "dutch_data = filtered_data[filtered_data['test_language'] == 'nl'].head(500)\n",
    "\n",
    "# Tel het aantal ACCEPTED en DECLINED voor Engelse data\n",
    "english_counts = english_data['state'].value_counts()\n",
    "\n",
    "# Tel het aantal ACCEPTED en DECLINED voor Nederlandse data\n",
    "dutch_counts = dutch_data['state'].value_counts()\n",
    "\n",
    "# Toon de resultaten\n",
    "print(\"Aantal ACCEPTED en DECLINED voor Engelse data:\")\n",
    "print(english_counts)\n",
    "\n",
    "print(\"\\nAantal ACCEPTED en DECLINED voor Nederlandse data:\")\n",
    "print(dutch_counts)"
   ]
  },
  {
   "cell_type": "code",
   "execution_count": 4,
   "metadata": {},
   "outputs": [
    {
     "name": "stdout",
     "output_type": "stream",
     "text": [
      "0\n",
      "php     486192\n",
      "html    326956\n",
      "js      251930\n",
      "css      98299\n",
      "sql      78774\n",
      "py        3669\n",
      "htm       3231\n",
      "inc          5\n",
      "Name: count, dtype: int64\n"
     ]
    }
   ],
   "source": [
    "# Extracting language names from 'file_name' and counting occurrences\n",
    "language_counts_linting = data_linting_result['file_name'].str.extract(r'\\.(\\w+)$').loc[:, 0].value_counts()\n",
    "\n",
    "# Displaying counts of each language\n",
    "print(language_counts_linting)"
   ]
  }
 ],
 "metadata": {
  "kernelspec": {
   "display_name": "venv",
   "language": "python",
   "name": "python3"
  },
  "language_info": {
   "codemirror_mode": {
    "name": "ipython",
    "version": 3
   },
   "file_extension": ".py",
   "mimetype": "text/x-python",
   "name": "python",
   "nbconvert_exporter": "python",
   "pygments_lexer": "ipython3",
   "version": "3.11.7"
  }
 },
 "nbformat": 4,
 "nbformat_minor": 2
}

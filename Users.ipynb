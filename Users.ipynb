{
 "cells": [
  {
   "cell_type": "code",
   "execution_count": 24,
   "metadata": {},
   "outputs": [],
   "source": [
    "import pandas as pd\n",
    "from cleaning import read_data, clean_linting_results, clean_review_test_results, clean_data_reviewss, clean_data_exercises, clean_data_code_blast_tests\n",
    "\n",
    "read_linting_results, read_review_test_results, read_reviews, data_tests, read_code_blast_tests, read_exercises, data_implementation_exercise = read_data()\n",
    "\n",
    "data_linting_result = clean_linting_results(read_linting_results)\n",
    "data_review_test_results = clean_review_test_results(read_review_test_results)\n",
    "data_reviews = clean_data_reviewss(read_reviews)\n",
    "data_exercises = clean_data_exercises(read_exercises)\n",
    "data_code_blast_tests = clean_data_code_blast_tests(read_code_blast_tests)\n"
   ]
  },
  {
   "cell_type": "code",
   "execution_count": 25,
   "metadata": {},
   "outputs": [
    {
     "name": "stdout",
     "output_type": "stream",
     "text": [
      "Aantal ACCEPTED en DECLINED voor Engelse data:\n",
      "state\n",
      "DECLINED    462\n",
      "ACCEPTED    271\n",
      "Name: count, dtype: int64\n",
      "\n",
      "Aantal ACCEPTED en DECLINED voor Nederlandse data:\n",
      "state\n",
      "DECLINED    1217176\n",
      "ACCEPTED    1008951\n",
      "Name: count, dtype: int64\n"
     ]
    }
   ],
   "source": [
    "# Samenvoegen van de datasets op basis van 'blast_review_id' en 'id'\n",
    "merged_data = pd.merge(data_review_test_results, data_reviews, left_on='blast_review_id', right_on='id')\n",
    "\n",
    "# Filteren op de gewenste taal ('test_language')\n",
    "filtered_data = merged_data[merged_data['test_language'].isin(['nl', 'en'])]\n",
    "\n",
    "# Beperk de resultaten tot 500 Engelse en 500 Nederlandse\n",
    "english_data = filtered_data[filtered_data['test_language'] == 'en'].head(500)\n",
    "dutch_data = filtered_data[filtered_data['test_language'] == 'nl'].head(500)\n",
    "\n",
    "# Tel het aantal ACCEPTED en DECLINED voor Engelse data\n",
    "english_counts = english_data['state'].value_counts()\n",
    "\n",
    "# Tel het aantal ACCEPTED en DECLINED voor Nederlandse data\n",
    "dutch_counts = dutch_data['state'].value_counts()\n",
    "\n",
    "# Toon de resultaten\n",
    "print(\"Aantal ACCEPTED en DECLINED voor Engelse data:\")\n",
    "print(english_counts)\n",
    "\n",
    "print(\"\\nAantal ACCEPTED en DECLINED voor Nederlandse data:\")\n",
    "print(dutch_counts)\n"
   ]
  },
  {
   "cell_type": "code",
   "execution_count": 26,
   "metadata": {},
   "outputs": [
    {
     "name": "stdout",
     "output_type": "stream",
     "text": [
      "0\n",
      "php     486192\n",
      "html    326956\n",
      "js      251930\n",
      "css      98299\n",
      "sql      78774\n",
      "py        3669\n",
      "htm       3231\n",
      "inc          5\n",
      "Name: count, dtype: int64\n"
     ]
    }
   ],
   "source": [
    "# Extracting language names from 'file_name' and counting occurrences\n",
    "language_counts_linting = data_linting_result['file_name'].str.extract(r'\\.(\\w+)$').loc[:, 0].value_counts()\n",
    "\n",
    "# Displaying counts of each language\n",
    "print(language_counts_linting)"
   ]
  },
  {
   "cell_type": "code",
   "execution_count": 27,
   "metadata": {},
   "outputs": [
    {
     "ename": "KeyError",
     "evalue": "'[1252285, 1252286, 1252287, 1252288, 1252289, 1252290, 1261634, 1264597, 1267450, 1275283, 1275284, 1275285, 1275286, 1275287, 1275288, 1281411, 1305625, 1305626, 1305627, 1305628, 1348382, 1353632, 1353633, 1353634, 1361875, 1361876, 1372692, 1372693, 1390428, 1418551, 1418552, 1418553, 1418554, 1421737, 1421738, 1421739, 1421740, 1421741, 1452860, 1452861, 1452862, 1455831, 1455832, 1471990, 1471991, 1472265, 1477254, 1477255, 1483276, 1486296, 1486297, 1486298, 1486299, 1486300, 1486301, 1488886, 1491646, 1491647, 1500648, 1512737, 1536301, 1549104, 1553530, 1553531, 1565009, 1565010, 1565011, 1565012, 1570800, 1577539, 1578875, 1578876, 1581488, 1581489, 1637185, 1637186, 1637187, 1646596, 1651087, 1651143, 1651144, 1662718, 1667202, 1668252, 1668253, 1686591, 1696136, 1696137, 1703922, 1713555, 1713556, 1716806, 1716807, 1724231, 1724232, 1724233, 1724234, 1726944, 1758136, 1758137, 1763321, 1763322, 1763323, 1763324, 1763325, 1766817, 1766818, 1777672, 1777673, 1798391, 1798392, 1798393, 1798394, 1798395, 1798396, 1810033, 1810034, 1821868, 1821869, 1821870, 1827359, 1845128, 1851478, 1851479, 1864050, 1876615, 1923474, 1923475, 1923476, 1933015, 1933016, 1935740, 1935741, 1938017, 1938018, 1947281, 1950886, 1950887, 1952199, 1952200, 1975132, 1975133, 1977757, 1977758, 1977759, 1978134, 1994146, 2001880, 2001881, 2001882, 2001883, 2001884, 2001885, 2039359, 2039360, 2039361, 2040106, 2047375, 2056303, 2061174, 2061175, 2090170, 2091300, 2092822, 2092823, 2094940, 2094941, 2102935, 2103149, 2103150, 2103151, 2103152, 2103153, 2104419, 2104420, 2125211, 2126120, 2126121, 2126723, 2126724, 2126725, 2133053, 2133054, 2138811, 2161055, 2161056, 2161057, 2191085, 2191086, 2194132, 2209788, 2209789, 2216474, 2216475, 2221361, 2221362, 2221363] not in index'",
     "output_type": "error",
     "traceback": [
      "\u001b[1;31m---------------------------------------------------------------------------\u001b[0m",
      "\u001b[1;31mKeyError\u001b[0m                                  Traceback (most recent call last)",
      "Cell \u001b[1;32mIn[27], line 15\u001b[0m\n\u001b[0;32m      8\u001b[0m filtered_data \u001b[38;5;241m=\u001b[39m merged_data[merged_data[\u001b[38;5;124m'\u001b[39m\u001b[38;5;124mtest_language\u001b[39m\u001b[38;5;124m'\u001b[39m]\u001b[38;5;241m.\u001b[39misin([\u001b[38;5;124m'\u001b[39m\u001b[38;5;124mnl\u001b[39m\u001b[38;5;124m'\u001b[39m, \u001b[38;5;124m'\u001b[39m\u001b[38;5;124men\u001b[39m\u001b[38;5;124m'\u001b[39m])]\n\u001b[0;32m     10\u001b[0m \u001b[38;5;66;03m# # Beperk de resultaten tot 500 Engelse en 500 Nederlandse\u001b[39;00m\n\u001b[0;32m     11\u001b[0m \u001b[38;5;66;03m# english_data = filtered_data[filtered_data['test_language'] == 'en'].head(500)\u001b[39;00m\n\u001b[0;32m     12\u001b[0m \u001b[38;5;66;03m# dutch_data = filtered_data[filtered_data['test_language'] == 'nl'].head(500)\u001b[39;00m\n\u001b[0;32m     13\u001b[0m \n\u001b[0;32m     14\u001b[0m \u001b[38;5;66;03m# Voeg codetaal toe aan de Engelse data\u001b[39;00m\n\u001b[1;32m---> 15\u001b[0m english_data[\u001b[38;5;124m'\u001b[39m\u001b[38;5;124mcodetaal\u001b[39m\u001b[38;5;124m'\u001b[39m] \u001b[38;5;241m=\u001b[39m \u001b[43mdata_linting_result_reset\u001b[49m\u001b[38;5;241;43m.\u001b[39;49m\u001b[43mloc\u001b[49m\u001b[43m[\u001b[49m\u001b[43menglish_data\u001b[49m\u001b[38;5;241;43m.\u001b[39;49m\u001b[43mindex\u001b[49m\u001b[43m,\u001b[49m\u001b[43m \u001b[49m\u001b[38;5;124;43m'\u001b[39;49m\u001b[38;5;124;43mfile_name\u001b[39;49m\u001b[38;5;124;43m'\u001b[39;49m\u001b[43m]\u001b[49m\u001b[38;5;241m.\u001b[39mstr\u001b[38;5;241m.\u001b[39mextract(\u001b[38;5;124mr\u001b[39m\u001b[38;5;124m'\u001b[39m\u001b[38;5;124m\\\u001b[39m\u001b[38;5;124m.(\u001b[39m\u001b[38;5;124m\\\u001b[39m\u001b[38;5;124mw+)$\u001b[39m\u001b[38;5;124m'\u001b[39m)\n\u001b[0;32m     17\u001b[0m \u001b[38;5;66;03m# Voeg codetaal toe aan de Nederlandse data\u001b[39;00m\n\u001b[0;32m     18\u001b[0m dutch_data[\u001b[38;5;124m'\u001b[39m\u001b[38;5;124mcodetaal\u001b[39m\u001b[38;5;124m'\u001b[39m] \u001b[38;5;241m=\u001b[39m data_linting_result_reset\u001b[38;5;241m.\u001b[39mloc[dutch_data\u001b[38;5;241m.\u001b[39mindex, \u001b[38;5;124m'\u001b[39m\u001b[38;5;124mfile_name\u001b[39m\u001b[38;5;124m'\u001b[39m]\u001b[38;5;241m.\u001b[39mstr\u001b[38;5;241m.\u001b[39mextract(\u001b[38;5;124mr\u001b[39m\u001b[38;5;124m'\u001b[39m\u001b[38;5;124m\\\u001b[39m\u001b[38;5;124m.(\u001b[39m\u001b[38;5;124m\\\u001b[39m\u001b[38;5;124mw+)$\u001b[39m\u001b[38;5;124m'\u001b[39m)\n",
      "File \u001b[1;32mc:\\Users\\joram.000\\Desktop\\Personal-Projects\\Bit-academy-blast-errors\\venv\\Lib\\site-packages\\pandas\\core\\indexing.py:1147\u001b[0m, in \u001b[0;36m_LocationIndexer.__getitem__\u001b[1;34m(self, key)\u001b[0m\n\u001b[0;32m   1145\u001b[0m     \u001b[38;5;28;01mif\u001b[39;00m \u001b[38;5;28mself\u001b[39m\u001b[38;5;241m.\u001b[39m_is_scalar_access(key):\n\u001b[0;32m   1146\u001b[0m         \u001b[38;5;28;01mreturn\u001b[39;00m \u001b[38;5;28mself\u001b[39m\u001b[38;5;241m.\u001b[39mobj\u001b[38;5;241m.\u001b[39m_get_value(\u001b[38;5;241m*\u001b[39mkey, takeable\u001b[38;5;241m=\u001b[39m\u001b[38;5;28mself\u001b[39m\u001b[38;5;241m.\u001b[39m_takeable)\n\u001b[1;32m-> 1147\u001b[0m     \u001b[38;5;28;01mreturn\u001b[39;00m \u001b[38;5;28;43mself\u001b[39;49m\u001b[38;5;241;43m.\u001b[39;49m\u001b[43m_getitem_tuple\u001b[49m\u001b[43m(\u001b[49m\u001b[43mkey\u001b[49m\u001b[43m)\u001b[49m\n\u001b[0;32m   1148\u001b[0m \u001b[38;5;28;01melse\u001b[39;00m:\n\u001b[0;32m   1149\u001b[0m     \u001b[38;5;66;03m# we by definition only have the 0th axis\u001b[39;00m\n\u001b[0;32m   1150\u001b[0m     axis \u001b[38;5;241m=\u001b[39m \u001b[38;5;28mself\u001b[39m\u001b[38;5;241m.\u001b[39maxis \u001b[38;5;129;01mor\u001b[39;00m \u001b[38;5;241m0\u001b[39m\n",
      "File \u001b[1;32mc:\\Users\\joram.000\\Desktop\\Personal-Projects\\Bit-academy-blast-errors\\venv\\Lib\\site-packages\\pandas\\core\\indexing.py:1330\u001b[0m, in \u001b[0;36m_LocIndexer._getitem_tuple\u001b[1;34m(self, tup)\u001b[0m\n\u001b[0;32m   1328\u001b[0m \u001b[38;5;28;01mwith\u001b[39;00m suppress(IndexingError):\n\u001b[0;32m   1329\u001b[0m     tup \u001b[38;5;241m=\u001b[39m \u001b[38;5;28mself\u001b[39m\u001b[38;5;241m.\u001b[39m_expand_ellipsis(tup)\n\u001b[1;32m-> 1330\u001b[0m     \u001b[38;5;28;01mreturn\u001b[39;00m \u001b[38;5;28;43mself\u001b[39;49m\u001b[38;5;241;43m.\u001b[39;49m\u001b[43m_getitem_lowerdim\u001b[49m\u001b[43m(\u001b[49m\u001b[43mtup\u001b[49m\u001b[43m)\u001b[49m\n\u001b[0;32m   1332\u001b[0m \u001b[38;5;66;03m# no multi-index, so validate all of the indexers\u001b[39;00m\n\u001b[0;32m   1333\u001b[0m tup \u001b[38;5;241m=\u001b[39m \u001b[38;5;28mself\u001b[39m\u001b[38;5;241m.\u001b[39m_validate_tuple_indexer(tup)\n",
      "File \u001b[1;32mc:\\Users\\joram.000\\Desktop\\Personal-Projects\\Bit-academy-blast-errors\\venv\\Lib\\site-packages\\pandas\\core\\indexing.py:1063\u001b[0m, in \u001b[0;36m_LocationIndexer._getitem_lowerdim\u001b[1;34m(self, tup)\u001b[0m\n\u001b[0;32m   1061\u001b[0m             \u001b[38;5;28;01mreturn\u001b[39;00m section\n\u001b[0;32m   1062\u001b[0m         \u001b[38;5;66;03m# This is an elided recursive call to iloc/loc\u001b[39;00m\n\u001b[1;32m-> 1063\u001b[0m         \u001b[38;5;28;01mreturn\u001b[39;00m \u001b[38;5;28;43mgetattr\u001b[39;49m\u001b[43m(\u001b[49m\u001b[43msection\u001b[49m\u001b[43m,\u001b[49m\u001b[43m \u001b[49m\u001b[38;5;28;43mself\u001b[39;49m\u001b[38;5;241;43m.\u001b[39;49m\u001b[43mname\u001b[49m\u001b[43m)\u001b[49m\u001b[43m[\u001b[49m\u001b[43mnew_key\u001b[49m\u001b[43m]\u001b[49m\n\u001b[0;32m   1065\u001b[0m \u001b[38;5;28;01mraise\u001b[39;00m IndexingError(\u001b[38;5;124m\"\u001b[39m\u001b[38;5;124mnot applicable\u001b[39m\u001b[38;5;124m\"\u001b[39m)\n",
      "File \u001b[1;32mc:\\Users\\joram.000\\Desktop\\Personal-Projects\\Bit-academy-blast-errors\\venv\\Lib\\site-packages\\pandas\\core\\indexing.py:1153\u001b[0m, in \u001b[0;36m_LocationIndexer.__getitem__\u001b[1;34m(self, key)\u001b[0m\n\u001b[0;32m   1150\u001b[0m axis \u001b[38;5;241m=\u001b[39m \u001b[38;5;28mself\u001b[39m\u001b[38;5;241m.\u001b[39maxis \u001b[38;5;129;01mor\u001b[39;00m \u001b[38;5;241m0\u001b[39m\n\u001b[0;32m   1152\u001b[0m maybe_callable \u001b[38;5;241m=\u001b[39m com\u001b[38;5;241m.\u001b[39mapply_if_callable(key, \u001b[38;5;28mself\u001b[39m\u001b[38;5;241m.\u001b[39mobj)\n\u001b[1;32m-> 1153\u001b[0m \u001b[38;5;28;01mreturn\u001b[39;00m \u001b[38;5;28;43mself\u001b[39;49m\u001b[38;5;241;43m.\u001b[39;49m\u001b[43m_getitem_axis\u001b[49m\u001b[43m(\u001b[49m\u001b[43mmaybe_callable\u001b[49m\u001b[43m,\u001b[49m\u001b[43m \u001b[49m\u001b[43maxis\u001b[49m\u001b[38;5;241;43m=\u001b[39;49m\u001b[43maxis\u001b[49m\u001b[43m)\u001b[49m\n",
      "File \u001b[1;32mc:\\Users\\joram.000\\Desktop\\Personal-Projects\\Bit-academy-blast-errors\\venv\\Lib\\site-packages\\pandas\\core\\indexing.py:1382\u001b[0m, in \u001b[0;36m_LocIndexer._getitem_axis\u001b[1;34m(self, key, axis)\u001b[0m\n\u001b[0;32m   1379\u001b[0m     \u001b[38;5;28;01mif\u001b[39;00m \u001b[38;5;28mhasattr\u001b[39m(key, \u001b[38;5;124m\"\u001b[39m\u001b[38;5;124mndim\u001b[39m\u001b[38;5;124m\"\u001b[39m) \u001b[38;5;129;01mand\u001b[39;00m key\u001b[38;5;241m.\u001b[39mndim \u001b[38;5;241m>\u001b[39m \u001b[38;5;241m1\u001b[39m:\n\u001b[0;32m   1380\u001b[0m         \u001b[38;5;28;01mraise\u001b[39;00m \u001b[38;5;167;01mValueError\u001b[39;00m(\u001b[38;5;124m\"\u001b[39m\u001b[38;5;124mCannot index with multidimensional key\u001b[39m\u001b[38;5;124m\"\u001b[39m)\n\u001b[1;32m-> 1382\u001b[0m     \u001b[38;5;28;01mreturn\u001b[39;00m \u001b[38;5;28;43mself\u001b[39;49m\u001b[38;5;241;43m.\u001b[39;49m\u001b[43m_getitem_iterable\u001b[49m\u001b[43m(\u001b[49m\u001b[43mkey\u001b[49m\u001b[43m,\u001b[49m\u001b[43m \u001b[49m\u001b[43maxis\u001b[49m\u001b[38;5;241;43m=\u001b[39;49m\u001b[43maxis\u001b[49m\u001b[43m)\u001b[49m\n\u001b[0;32m   1384\u001b[0m \u001b[38;5;66;03m# nested tuple slicing\u001b[39;00m\n\u001b[0;32m   1385\u001b[0m \u001b[38;5;28;01mif\u001b[39;00m is_nested_tuple(key, labels):\n",
      "File \u001b[1;32mc:\\Users\\joram.000\\Desktop\\Personal-Projects\\Bit-academy-blast-errors\\venv\\Lib\\site-packages\\pandas\\core\\indexing.py:1322\u001b[0m, in \u001b[0;36m_LocIndexer._getitem_iterable\u001b[1;34m(self, key, axis)\u001b[0m\n\u001b[0;32m   1319\u001b[0m \u001b[38;5;28mself\u001b[39m\u001b[38;5;241m.\u001b[39m_validate_key(key, axis)\n\u001b[0;32m   1321\u001b[0m \u001b[38;5;66;03m# A collection of keys\u001b[39;00m\n\u001b[1;32m-> 1322\u001b[0m keyarr, indexer \u001b[38;5;241m=\u001b[39m \u001b[38;5;28;43mself\u001b[39;49m\u001b[38;5;241;43m.\u001b[39;49m\u001b[43m_get_listlike_indexer\u001b[49m\u001b[43m(\u001b[49m\u001b[43mkey\u001b[49m\u001b[43m,\u001b[49m\u001b[43m \u001b[49m\u001b[43maxis\u001b[49m\u001b[43m)\u001b[49m\n\u001b[0;32m   1323\u001b[0m \u001b[38;5;28;01mreturn\u001b[39;00m \u001b[38;5;28mself\u001b[39m\u001b[38;5;241m.\u001b[39mobj\u001b[38;5;241m.\u001b[39m_reindex_with_indexers(\n\u001b[0;32m   1324\u001b[0m     {axis: [keyarr, indexer]}, copy\u001b[38;5;241m=\u001b[39m\u001b[38;5;28;01mTrue\u001b[39;00m, allow_dups\u001b[38;5;241m=\u001b[39m\u001b[38;5;28;01mTrue\u001b[39;00m\n\u001b[0;32m   1325\u001b[0m )\n",
      "File \u001b[1;32mc:\\Users\\joram.000\\Desktop\\Personal-Projects\\Bit-academy-blast-errors\\venv\\Lib\\site-packages\\pandas\\core\\indexing.py:1520\u001b[0m, in \u001b[0;36m_LocIndexer._get_listlike_indexer\u001b[1;34m(self, key, axis)\u001b[0m\n\u001b[0;32m   1517\u001b[0m ax \u001b[38;5;241m=\u001b[39m \u001b[38;5;28mself\u001b[39m\u001b[38;5;241m.\u001b[39mobj\u001b[38;5;241m.\u001b[39m_get_axis(axis)\n\u001b[0;32m   1518\u001b[0m axis_name \u001b[38;5;241m=\u001b[39m \u001b[38;5;28mself\u001b[39m\u001b[38;5;241m.\u001b[39mobj\u001b[38;5;241m.\u001b[39m_get_axis_name(axis)\n\u001b[1;32m-> 1520\u001b[0m keyarr, indexer \u001b[38;5;241m=\u001b[39m \u001b[43max\u001b[49m\u001b[38;5;241;43m.\u001b[39;49m\u001b[43m_get_indexer_strict\u001b[49m\u001b[43m(\u001b[49m\u001b[43mkey\u001b[49m\u001b[43m,\u001b[49m\u001b[43m \u001b[49m\u001b[43maxis_name\u001b[49m\u001b[43m)\u001b[49m\n\u001b[0;32m   1522\u001b[0m \u001b[38;5;28;01mreturn\u001b[39;00m keyarr, indexer\n",
      "File \u001b[1;32mc:\\Users\\joram.000\\Desktop\\Personal-Projects\\Bit-academy-blast-errors\\venv\\Lib\\site-packages\\pandas\\core\\indexes\\base.py:6114\u001b[0m, in \u001b[0;36mIndex._get_indexer_strict\u001b[1;34m(self, key, axis_name)\u001b[0m\n\u001b[0;32m   6111\u001b[0m \u001b[38;5;28;01melse\u001b[39;00m:\n\u001b[0;32m   6112\u001b[0m     keyarr, indexer, new_indexer \u001b[38;5;241m=\u001b[39m \u001b[38;5;28mself\u001b[39m\u001b[38;5;241m.\u001b[39m_reindex_non_unique(keyarr)\n\u001b[1;32m-> 6114\u001b[0m \u001b[38;5;28;43mself\u001b[39;49m\u001b[38;5;241;43m.\u001b[39;49m\u001b[43m_raise_if_missing\u001b[49m\u001b[43m(\u001b[49m\u001b[43mkeyarr\u001b[49m\u001b[43m,\u001b[49m\u001b[43m \u001b[49m\u001b[43mindexer\u001b[49m\u001b[43m,\u001b[49m\u001b[43m \u001b[49m\u001b[43maxis_name\u001b[49m\u001b[43m)\u001b[49m\n\u001b[0;32m   6116\u001b[0m keyarr \u001b[38;5;241m=\u001b[39m \u001b[38;5;28mself\u001b[39m\u001b[38;5;241m.\u001b[39mtake(indexer)\n\u001b[0;32m   6117\u001b[0m \u001b[38;5;28;01mif\u001b[39;00m \u001b[38;5;28misinstance\u001b[39m(key, Index):\n\u001b[0;32m   6118\u001b[0m     \u001b[38;5;66;03m# GH 42790 - Preserve name from an Index\u001b[39;00m\n",
      "File \u001b[1;32mc:\\Users\\joram.000\\Desktop\\Personal-Projects\\Bit-academy-blast-errors\\venv\\Lib\\site-packages\\pandas\\core\\indexes\\base.py:6178\u001b[0m, in \u001b[0;36mIndex._raise_if_missing\u001b[1;34m(self, key, indexer, axis_name)\u001b[0m\n\u001b[0;32m   6175\u001b[0m     \u001b[38;5;28;01mraise\u001b[39;00m \u001b[38;5;167;01mKeyError\u001b[39;00m(\u001b[38;5;124mf\u001b[39m\u001b[38;5;124m\"\u001b[39m\u001b[38;5;124mNone of [\u001b[39m\u001b[38;5;132;01m{\u001b[39;00mkey\u001b[38;5;132;01m}\u001b[39;00m\u001b[38;5;124m] are in the [\u001b[39m\u001b[38;5;132;01m{\u001b[39;00maxis_name\u001b[38;5;132;01m}\u001b[39;00m\u001b[38;5;124m]\u001b[39m\u001b[38;5;124m\"\u001b[39m)\n\u001b[0;32m   6177\u001b[0m not_found \u001b[38;5;241m=\u001b[39m \u001b[38;5;28mlist\u001b[39m(ensure_index(key)[missing_mask\u001b[38;5;241m.\u001b[39mnonzero()[\u001b[38;5;241m0\u001b[39m]]\u001b[38;5;241m.\u001b[39munique())\n\u001b[1;32m-> 6178\u001b[0m \u001b[38;5;28;01mraise\u001b[39;00m \u001b[38;5;167;01mKeyError\u001b[39;00m(\u001b[38;5;124mf\u001b[39m\u001b[38;5;124m\"\u001b[39m\u001b[38;5;132;01m{\u001b[39;00mnot_found\u001b[38;5;132;01m}\u001b[39;00m\u001b[38;5;124m not in index\u001b[39m\u001b[38;5;124m\"\u001b[39m)\n",
      "\u001b[1;31mKeyError\u001b[0m: '[1252285, 1252286, 1252287, 1252288, 1252289, 1252290, 1261634, 1264597, 1267450, 1275283, 1275284, 1275285, 1275286, 1275287, 1275288, 1281411, 1305625, 1305626, 1305627, 1305628, 1348382, 1353632, 1353633, 1353634, 1361875, 1361876, 1372692, 1372693, 1390428, 1418551, 1418552, 1418553, 1418554, 1421737, 1421738, 1421739, 1421740, 1421741, 1452860, 1452861, 1452862, 1455831, 1455832, 1471990, 1471991, 1472265, 1477254, 1477255, 1483276, 1486296, 1486297, 1486298, 1486299, 1486300, 1486301, 1488886, 1491646, 1491647, 1500648, 1512737, 1536301, 1549104, 1553530, 1553531, 1565009, 1565010, 1565011, 1565012, 1570800, 1577539, 1578875, 1578876, 1581488, 1581489, 1637185, 1637186, 1637187, 1646596, 1651087, 1651143, 1651144, 1662718, 1667202, 1668252, 1668253, 1686591, 1696136, 1696137, 1703922, 1713555, 1713556, 1716806, 1716807, 1724231, 1724232, 1724233, 1724234, 1726944, 1758136, 1758137, 1763321, 1763322, 1763323, 1763324, 1763325, 1766817, 1766818, 1777672, 1777673, 1798391, 1798392, 1798393, 1798394, 1798395, 1798396, 1810033, 1810034, 1821868, 1821869, 1821870, 1827359, 1845128, 1851478, 1851479, 1864050, 1876615, 1923474, 1923475, 1923476, 1933015, 1933016, 1935740, 1935741, 1938017, 1938018, 1947281, 1950886, 1950887, 1952199, 1952200, 1975132, 1975133, 1977757, 1977758, 1977759, 1978134, 1994146, 2001880, 2001881, 2001882, 2001883, 2001884, 2001885, 2039359, 2039360, 2039361, 2040106, 2047375, 2056303, 2061174, 2061175, 2090170, 2091300, 2092822, 2092823, 2094940, 2094941, 2102935, 2103149, 2103150, 2103151, 2103152, 2103153, 2104419, 2104420, 2125211, 2126120, 2126121, 2126723, 2126724, 2126725, 2133053, 2133054, 2138811, 2161055, 2161056, 2161057, 2191085, 2191086, 2194132, 2209788, 2209789, 2216474, 2216475, 2221361, 2221362, 2221363] not in index'"
     ]
    }
   ],
   "source": [
    "# Reset index van data_linting_result\n",
    "data_linting_result_reset = data_linting_result.reset_index()\n",
    "\n",
    "# Samenvoegen van de datasets op basis van 'blast_review_id' en 'id'\n",
    "merged_data = pd.merge(data_review_test_results, data_reviews, left_on='blast_review_id', right_on='id')\n",
    "\n",
    "# Filteren op de gewenste taal ('test_language')\n",
    "filtered_data = merged_data[merged_data['test_language'].isin(['nl', 'en'])]\n",
    "\n",
    "# Beperk de resultaten tot 500 Engelse en 500 Nederlandse\n",
    "english_data = filtered_data[filtered_data['test_language'] == 'en'].head(500)\n",
    "dutch_data = filtered_data[filtered_data['test_language'] == 'nl'].head(500)\n",
    "\n",
    "# Voeg codetaal toe aan de Engelse data\n",
    "english_data['codetaal'] = data_linting_result_reset.loc[english_data.index, 'file_name'].str.extract(r'\\.(\\w+)$')\n",
    "\n",
    "# Voeg codetaal toe aan de Nederlandse data\n",
    "dutch_data['codetaal'] = data_linting_result_reset.loc[dutch_data.index, 'file_name'].str.extract(r'\\.(\\w+)$')\n",
    "\n",
    "# Tel het aantal ACCEPTED en DECLINED voor Engelse data per codetaal\n",
    "english_counts_by_language = english_data.groupby(['codetaal', 'state']).size().unstack(fill_value=0)\n",
    "\n",
    "# Tel het aantal ACCEPTED en DECLINED voor Nederlandse data per codetaal\n",
    "dutch_counts_by_language = dutch_data.groupby(['codetaal', 'state']).size().unstack(fill_value=0)\n",
    "\n",
    "# Toon de resultaten\n",
    "print(\"Aantal ACCEPTED en DECLINED voor Engelse data per codetaal:\")\n",
    "print(english_counts_by_language)\n",
    "\n",
    "print(\"\\nAantal ACCEPTED en DECLINED voor Nederlandse data per codetaal:\")\n",
    "print(dutch_counts_by_language)\n",
    "\n",
    "# Extracting language names from 'file_name' and counting occurrences\n",
    "language_counts_linting = data_linting_result_reset['file_name'].str.extract(r'\\.(\\w+)$').loc[:, 0].value_counts()\n",
    "\n",
    "# Displaying counts of each language\n",
    "print(\"\\nAantal bestanden per codetaal in linting resultaten:\")\n",
    "print(language_counts_linting)\n"
   ]
  },
  {
   "cell_type": "code",
   "execution_count": null,
   "metadata": {},
   "outputs": [],
   "source": []
  }
 ],
 "metadata": {
  "kernelspec": {
   "display_name": "venv",
   "language": "python",
   "name": "python3"
  },
  "language_info": {
   "codemirror_mode": {
    "name": "ipython",
    "version": 3
   },
   "file_extension": ".py",
   "mimetype": "text/x-python",
   "name": "python",
   "nbconvert_exporter": "python",
   "pygments_lexer": "ipython3",
   "version": "3.11.7"
  }
 },
 "nbformat": 4,
 "nbformat_minor": 2
}
